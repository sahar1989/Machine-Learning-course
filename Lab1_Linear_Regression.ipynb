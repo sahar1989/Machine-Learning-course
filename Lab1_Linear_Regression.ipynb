{
 "cells": [
  {
   "cell_type": "markdown",
   "metadata": {},
   "source": [
    "<h1>Lab 1: Linear Regression : Training One Parameter</h1>"
   ]
  },
  {
   "cell_type": "markdown",
   "metadata": {},
   "source": [
    "In this practice session, you are invited to train two linear regression models using gradient descent method. The first one on a simulated that you create and the second on a real data."
   ]
  },
  {
   "cell_type": "markdown",
   "metadata": {},
   "source": [
    "<h2>Preparation</h2>"
   ]
  },
  {
   "cell_type": "markdown",
   "metadata": {},
   "source": [
    "The following are the libraries we are going to use for this lab: **numpy** supports matrix operation and **matplotlib** library plots the data."
   ]
  },
  {
   "cell_type": "code",
   "execution_count": 1,
   "metadata": {},
   "outputs": [
    {
     "ename": "ModuleNotFoundError",
     "evalue": "No module named 'numpy'",
     "output_type": "error",
     "traceback": [
      "\u001b[1;31m---------------------------------------------------------------------------\u001b[0m",
      "\u001b[1;31mModuleNotFoundError\u001b[0m                       Traceback (most recent call last)",
      "\u001b[1;32m<ipython-input-1-ed22b2130e70>\u001b[0m in \u001b[0;36m<module>\u001b[1;34m\u001b[0m\n\u001b[1;32m----> 1\u001b[1;33m \u001b[1;32mimport\u001b[0m \u001b[0mnumpy\u001b[0m \u001b[1;32mas\u001b[0m \u001b[0mnp\u001b[0m\u001b[1;33m\u001b[0m\u001b[1;33m\u001b[0m\u001b[0m\n\u001b[0m\u001b[0;32m      2\u001b[0m \u001b[1;32mimport\u001b[0m \u001b[0mmatplotlib\u001b[0m\u001b[1;33m.\u001b[0m\u001b[0mpyplot\u001b[0m \u001b[1;32mas\u001b[0m \u001b[0mplt\u001b[0m\u001b[1;33m\u001b[0m\u001b[1;33m\u001b[0m\u001b[0m\n\u001b[0;32m      3\u001b[0m \u001b[1;32mfrom\u001b[0m \u001b[0mmath\u001b[0m \u001b[1;32mimport\u001b[0m \u001b[0mexp\u001b[0m\u001b[1;33m\u001b[0m\u001b[1;33m\u001b[0m\u001b[0m\n",
      "\u001b[1;31mModuleNotFoundError\u001b[0m: No module named 'numpy'"
     ]
    }
   ],
   "source": [
    "import numpy as np\n",
    "import matplotlib.pyplot as plt\n",
    "from math import exp"
   ]
  },
  {
   "cell_type": "markdown",
   "metadata": {},
   "source": [
    "The class <code>plot_diagram</code> helps us to visualize the data space and the parameter space during training"
   ]
  },
  {
   "cell_type": "code",
   "execution_count": null,
   "metadata": {},
   "outputs": [],
   "source": [
    "# The class for plotting\n",
    "\n",
    "class plot_diagram():\n",
    "    \n",
    "    # Constructor\n",
    "    def __init__(self, X, Y, theta_1, stop, go = False):\n",
    "        start = theta_1\n",
    "        self.error = []\n",
    "        self.parameter = []\n",
    "        self.X = X\n",
    "        self.Y = Y\n",
    "        self.parameter_values = np.arange(start, stop)\n",
    "        self.Loss_function = [cost(predict(X,theta_1), Y) for theta_1 in self.parameter_values] \n",
    "        theta_1 = start\n",
    "        \n",
    "    # Executor\n",
    "    def __call__(self, Yhat, theta_1, error, grad, n):\n",
    "        self.error.append(error)\n",
    "        self.parameter.append(theta_1)\n",
    "        plt.figure(figsize=(8,9))\n",
    "        plt.subplot(212)\n",
    "        plt.plot(np.sort(self.X,axis=0),Yhat[np.argsort(self.X,axis=0),0])\n",
    "        plt.plot(self.X, self.Y,'ro')\n",
    "        plt.xlabel(\"A\")\n",
    "        #plt.ylim(-20, 20)\n",
    "        plt.subplot(211)\n",
    "        plt.title(\"Data Space (top) Estimated Line (bottom) Iteration \" + str(n))\n",
    "        plt.plot(self.parameter_values, self.Loss_function)   \n",
    "        plt.plot(self.parameter, self.error, 'ro')\n",
    "        plt.quiver(theta_1,error,1/(1+exp(grad))-0.5,(1/(1+exp(grad))-0.5)*grad,color='red',scale=0.5,scale_units='xy',angles='xy')\n",
    "        plt.xlabel(\"B\")\n",
    "    \n",
    "    # Destructor\n",
    "    def __del__(self):\n",
    "        plt.close('all')"
   ]
  },
  {
   "cell_type": "markdown",
   "metadata": {},
   "source": [
    "## Part 1: Simulated Data"
   ]
  },
  {
   "cell_type": "markdown",
   "metadata": {},
   "source": [
    "<h3 id=\"Makeup_Data\">Make Some Data</h3>"
   ]
  },
  {
   "cell_type": "markdown",
   "metadata": {},
   "source": [
    "**Question 1:**\n",
    "- Use [<code>numpy.arange</code>](https://docs.scipy.org/doc/numpy-1.15.0/reference/generated/numpy.arange.html) to generate values from -3 to 3 with a step of 0.1 in the variable X. \n",
    "- Use [<code>numpy.shape</code>](https://docs.scipy.org/doc/numpy-1.15.0/reference/generated/numpy.ndarray.shape.html) to visualize the size of X.\n",
    "- Use X to create $f = -3X$ a line with a slope of -3. This is the line you will estimate."
   ]
  },
  {
   "cell_type": "code",
   "execution_count": null,
   "metadata": {},
   "outputs": [],
   "source": [
    "# Generate values from -3 to 3 with a step of 0.1\n",
    "# Type your code here\n",
    "X=\n",
    "\n",
    "X =X[:,np.newaxis] # we add np.newaxis in the indexing to obtain an array of shape (m,1) instead of (m,1)\n",
    "\n",
    "# Print the shape of X\n",
    "# Type your code here\n",
    "print('The shape of X is: ', )\n",
    "\n",
    "# Create the f(X) with a slope of -3\n",
    "# Type your code here\n",
    "f = "
   ]
  },
  {
   "cell_type": "markdown",
   "metadata": {},
   "source": [
    "Let us plot the line."
   ]
  },
  {
   "cell_type": "code",
   "execution_count": null,
   "metadata": {},
   "outputs": [],
   "source": [
    "# Plot the line with blue\n",
    "\n",
    "plt.plot(X, f, label = 'f')\n",
    "plt.xlabel('X')\n",
    "plt.ylabel('f(X)')\n",
    "plt.legend()\n",
    "plt.show()"
   ]
  },
  {
   "cell_type": "markdown",
   "metadata": {},
   "source": [
    "**Question 2:** \n",
    "We want to add some noise to the data in order to simulate the real data. \n",
    "- Use [<code>numpy.random.randn</code>](https://docs.scipy.org/doc/numpy-1.15.1/reference/generated/numpy.random.randn.html) to generate Gaussian noise that is the same size as <code>X</code>."
   ]
  },
  {
   "cell_type": "code",
   "execution_count": null,
   "metadata": {},
   "outputs": [],
   "source": [
    "# Generate the noise that is the same size as X\n",
    "# Type your code here\n",
    "noise = \n",
    "\n",
    "# Add some noise to f(X) and save it in Y\n",
    "Y = f + 0.5 * noise"
   ]
  },
  {
   "cell_type": "markdown",
   "metadata": {},
   "source": [
    "Plot the output you want to predict <code>Y</code>: "
   ]
  },
  {
   "cell_type": "code",
   "execution_count": null,
   "metadata": {},
   "outputs": [],
   "source": [
    "# Plot the data points\n",
    "\n",
    "plt.plot(X, Y, 'rx', label = 'Y')\n",
    "\n",
    "plt.plot(X, f, label = 'f')\n",
    "plt.xlabel('x')\n",
    "plt.ylabel('y')\n",
    "plt.legend()\n",
    "plt.show()"
   ]
  },
  {
   "cell_type": "markdown",
   "metadata": {},
   "source": [
    "<h3 id=\"Model_Cost\">Create the Model and Cost Function (Total Loss)</h3>"
   ]
  },
  {
   "cell_type": "markdown",
   "metadata": {},
   "source": [
    "In this section, let us create the model and the cost function (total loss) we are going to use to train the model and evaluate the result."
   ]
  },
  {
   "cell_type": "markdown",
   "metadata": {},
   "source": [
    "**Question 3:** \n",
    "Define the linear model with <code>predict</code> function that returns $yhat=\\theta_1*x$. (We will add the bias in the next lab.)"
   ]
  },
  {
   "cell_type": "code",
   "execution_count": null,
   "metadata": {},
   "outputs": [],
   "source": [
    "# Create predict function\n",
    "def predict(x,theta_1):\n",
    "    # Type your code here\n",
    "    return "
   ]
  },
  {
   "cell_type": "markdown",
   "metadata": {},
   "source": [
    "**Question 4:** \n",
    "- Store in the variable m the number of samples.\n",
    "- Define the criterion or cost function that returns the MSE (Mean Square Error): **Mean Squared Error (MSE)**: $$cost = \\frac{1}{2~m} \\sum_{i=1}^{m}{(yhat_i - y_i)^2}$$\n",
    "**Hint:** For a vectorized implementation, use direct operation on arrays like $+,-, \\times \\dots$ You can also use [<code>numpy.dot</code>](https://docs.scipy.org/doc/numpy/reference/generated/numpy.dot.html), [<code>numpy.transpose</code>](https://docs.scipy.org/doc/numpy/reference/generated/numpy.transpose.html) and [<code>numpy.sum</code>](https://docs.scipy.org/doc/numpy-1.12.0/reference/generated/numpy.sum.html) functions to calculate sums along vectors rather than using for loop. "
   ]
  },
  {
   "cell_type": "code",
   "execution_count": null,
   "metadata": {},
   "outputs": [],
   "source": [
    "# Create the MSE function to evaluate the result.\n",
    "\n",
    "def cost(yhat, y):\n",
    "    # Type your code here\n",
    "    m = \n",
    "    return "
   ]
  },
  {
   "cell_type": "markdown",
   "metadata": {},
   "source": [
    "Let us define the learning rate <code>lr</code> and an empty list <code>LOSS</code> to record the loss for each iteration:   "
   ]
  },
  {
   "cell_type": "code",
   "execution_count": null,
   "metadata": {},
   "outputs": [],
   "source": [
    "# Create Learning Rate and an empty list to record the loss for each iteration\n",
    "\n",
    "lr = 0.1\n",
    "LOSS = []"
   ]
  },
  {
   "cell_type": "markdown",
   "metadata": {},
   "source": [
    "Now, we initialize the model parameter to learn."
   ]
  },
  {
   "cell_type": "code",
   "execution_count": null,
   "metadata": {},
   "outputs": [],
   "source": [
    "theta_1 = -10.0"
   ]
  },
  {
   "cell_type": "markdown",
   "metadata": {},
   "source": [
    "**Question 5:** \n",
    "- Store in the variable m the number of samples.\n",
    "- Define the gradient of the cost function (Mean Squared Error) that returns: $\\frac{d (cost)}{d \\theta} = \\frac{1}{m} \\sum_{i=1}^{m}{(yhat_i - y)~x_i}$  \n",
    "**Hint:** You can use the vectorized form: $\\frac{d (cost)}{d \\theta} =\\frac{1}{m} x^T(yhat-y)$"
   ]
  },
  {
   "cell_type": "code",
   "execution_count": null,
   "metadata": {},
   "outputs": [],
   "source": [
    "# Create the gradient of the Mean Squared Error cost function\n",
    "\n",
    "def grad_cost_func(theta_1, x, y):\n",
    "    # Type your code here\n",
    "    m = \n",
    "    return "
   ]
  },
  {
   "cell_type": "markdown",
   "metadata": {},
   "source": [
    "We create a <code>plot_diagram</code> object to visualize the data space and the parameter space for each iteration during training:"
   ]
  },
  {
   "cell_type": "code",
   "execution_count": null,
   "metadata": {},
   "outputs": [],
   "source": [
    "gradient_plot = plot_diagram(X, Y, theta_1 , stop= 5)"
   ]
  },
  {
   "cell_type": "markdown",
   "metadata": {},
   "source": [
    "<h3 id=\"Train\">Train the Model</h3>"
   ]
  },
  {
   "cell_type": "markdown",
   "metadata": {},
   "source": [
    "#### Gradient descent algorithm\n",
    "The gradient descent algorithm is a downhill iterative optimization method that uses the gradient direction as descending direction on each step to reach a local minimum. For a convex function, such as the MSE cost function, the gradient descent is guaranteed to reach a global minimum.  \n",
    "The update equation of the optimization parameter $\\theta$ is given by: $$\\theta=\\theta-lr \\frac{d(cost)}{d \\theta}$$\n",
    "Where $lr:$ represents the step or the learning rate."
   ]
  },
  {
   "cell_type": "markdown",
   "metadata": {},
   "source": [
    "**Question 6:** Define a function for training the model by the gradient descent method using the following steps:\n",
    "- Make a prediction of your data\n",
    "- Calculate the loss \n",
    "- Compute the gradient of the loss\n",
    "- Update the $\\theta_1$ parameter using the formula above."
   ]
  },
  {
   "cell_type": "code",
   "execution_count": null,
   "metadata": {},
   "outputs": [],
   "source": [
    "# Define a function for train the model\n",
    "\n",
    "def train_model(theta_1,iter):\n",
    "    for epoch in range (iter):\n",
    "        \n",
    "        # make the prediction\n",
    "        # Type your code here\n",
    "        Yhat = \n",
    "        \n",
    "        # calculate the cost\n",
    "        # Type your code here\n",
    "        loss = \n",
    "        \n",
    "        # store the loss into list\n",
    "        LOSS.append(loss)\n",
    "        \n",
    "        # Compute gradient of the loss\n",
    "        # Type your code here\n",
    "        grad=\n",
    "        \n",
    "        # plot the diagram for us to have a better idea\n",
    "        gradient_plot(Yhat, theta_1, loss, grad, epoch)\n",
    "        \n",
    "        # update the theta_1 parameter\n",
    "        # Type your code here\n",
    "        theta_1 = \n",
    "        \n",
    "    return theta_1"
   ]
  },
  {
   "cell_type": "markdown",
   "metadata": {},
   "source": [
    "**Question 7:** Run 10 iterations of gradient descent and determine the optimal prediction of $\\theta$"
   ]
  },
  {
   "cell_type": "code",
   "execution_count": null,
   "metadata": {},
   "outputs": [],
   "source": [
    "# Type your code here\n",
    "theta_opt = "
   ]
  },
  {
   "cell_type": "markdown",
   "metadata": {},
   "source": [
    "Plot the variation of loss for each iteration: "
   ]
  },
  {
   "cell_type": "code",
   "execution_count": null,
   "metadata": {},
   "outputs": [],
   "source": [
    "# Plot the variation of loss for each iteration\n",
    "\n",
    "plt.plot(LOSS)\n",
    "plt.tight_layout()\n",
    "plt.xlabel(\"Epoch/Iterations\")\n",
    "plt.ylabel(\"Cost\")"
   ]
  },
  {
   "cell_type": "markdown",
   "metadata": {},
   "source": [
    "**Question 8:** Print the optimal prediction of $\\theta$ and the final loss:"
   ]
  },
  {
   "cell_type": "code",
   "execution_count": null,
   "metadata": {},
   "outputs": [],
   "source": [
    "# Type your code here\n",
    "print(\"The optimal value of theta that minimize cost function is: \",)\n",
    "print('The final loss is: ',)"
   ]
  },
  {
   "cell_type": "markdown",
   "metadata": {},
   "source": [
    "<h2> Part 2: Real Data</h2>"
   ]
  },
  {
   "cell_type": "markdown",
   "metadata": {},
   "source": [
    "Let us now consider real data and **predict houses prices in the region of *\"Ile-de-France\"* based on their areas** (i.e. price = f(area))."
   ]
  },
  {
   "cell_type": "markdown",
   "metadata": {},
   "source": [
    "**Question 1:** The *\"house.csv\"* file contains 3 columns that represent respectively **the area, the number of rooms and the price** of 600 houses (one per row). \n",
    "- Open this file with a file editor to examine the data. \n",
    "- Load the data in \"house_data\" variable. \n",
    "- Print the size of the data.  \n",
    "**Hint:** You can use [loadtxt](https://docs.scipy.org/doc/numpy-1.13.0/reference/generated/numpy.loadtxt.html) function from numpy library."
   ]
  },
  {
   "cell_type": "code",
   "execution_count": null,
   "metadata": {},
   "outputs": [],
   "source": [
    "# Load the data\n",
    "# Type your code here\n",
    "house_data=\n",
    "\n",
    "# Print the size of the data \n",
    "# Type your code here\n"
   ]
  },
  {
   "cell_type": "markdown",
   "metadata": {},
   "source": [
    "**Question 2:** \n",
    "- Determine the number of samples \"m\" in the input data \"house_price\".\n",
    "- Extract the input feature and the output (what we are trying to predict) columns respectively in \"X\" and \"Y\" arrays.  \n",
    "**Hint:** The shape of \"X\" and \"Y\" arrays should be (m,1) for the following questions and not (m,). You can use [newaxis numpy](https://docs.scipy.org/doc/numpy/reference/arrays.indexing.html#basic-slicing-and-indexing) object to add a new axis as done in the question 1 of the first part."
   ]
  },
  {
   "cell_type": "code",
   "execution_count": null,
   "metadata": {},
   "outputs": [],
   "source": [
    "# Extract the number of samples\n",
    "# Type your code here\n",
    "m =  \n",
    "# number of features\n",
    "n = 1  \n",
    "#Extract the input feature X\n",
    "# Type your code here\n",
    "X =                            # we add np.newaxis in the indexing to obtain an array \n",
    "print(X.shape)                 # with shape (600,1) instead of (600,)\n",
    "#Extract the output Y (what we are trying to predict)\n",
    "# Type your code here\n",
    "Y =                            # we add np.newaxis in the indexing to obtain an array with shape (600,1) instead of (600,)"
   ]
  },
  {
   "cell_type": "markdown",
   "metadata": {},
   "source": [
    "Let us plot the data."
   ]
  },
  {
   "cell_type": "code",
   "execution_count": null,
   "metadata": {},
   "outputs": [],
   "source": [
    "plt.figure(\"Visualize house data\",figsize=(9,5))\n",
    "plt.scatter(X, Y,  color='black')\n",
    "plt.xlabel('house area (m²)')\n",
    "plt.ylabel('house price (1000€)')\n",
    "plt.title('house area vs price')"
   ]
  },
  {
   "cell_type": "markdown",
   "metadata": {},
   "source": [
    "**Question 3:**  \n",
    "- Create a new parameter $\\theta_1$ with an initial value of -3.\n",
    "- Initialize the learning rate <code>lr</code> to $10^{-4}$.\n",
    "- Create an empty list <code>LOSS2</code>"
   ]
  },
  {
   "cell_type": "code",
   "execution_count": null,
   "metadata": {},
   "outputs": [],
   "source": [
    "# Type your code here\n",
    "theta_1=\n",
    "\n",
    "# Type your code here\n",
    "lr=\n",
    "\n",
    "# Type your code here\n",
    "LOSS2="
   ]
  },
  {
   "cell_type": "markdown",
   "metadata": {},
   "source": [
    "We create a plot_diagram object to visualize the data space and the parameter space for each iteration during training:"
   ]
  },
  {
   "cell_type": "code",
   "execution_count": null,
   "metadata": {},
   "outputs": [],
   "source": [
    "gradient_plot_1 = plot_diagram(X, Y, theta_1 , stop= 12)"
   ]
  },
  {
   "cell_type": "markdown",
   "metadata": {},
   "source": [
    "**Question 4:**  \n",
    "- Write your own <code>house_train_model</code> function with loss list <code>LOSS2</code>. "
   ]
  },
  {
   "cell_type": "code",
   "execution_count": null,
   "metadata": {},
   "outputs": [],
   "source": [
    "def house_train_model(theta_1,iter):\n",
    "    for epoch in range (iter):\n",
    "        # Type your code here\n",
    "    return theta_1"
   ]
  },
  {
   "cell_type": "markdown",
   "metadata": {},
   "source": [
    "**Question 5:**  \n",
    "Run your own <code>house_train_model</code> function with 4 iterations."
   ]
  },
  {
   "cell_type": "code",
   "execution_count": null,
   "metadata": {},
   "outputs": [],
   "source": [
    "# Type your code here\n",
    "theta_opt="
   ]
  },
  {
   "cell_type": "markdown",
   "metadata": {},
   "source": [
    "**Question 6:** \n",
    "- Print the optimal $\\theta$. \n",
    "- Predict the price of a house having an area of 330 using the calculated value of optimal $\\theta$. "
   ]
  },
  {
   "cell_type": "code",
   "execution_count": null,
   "metadata": {},
   "outputs": [],
   "source": [
    "# Type your code here\n",
    "print(\"The optimal value of theta that minimize cost function is: \",)\n",
    "# Type your code here\n",
    "print(\"The predicted price of a 330 m² house is: \",)"
   ]
  },
  {
   "cell_type": "markdown",
   "metadata": {},
   "source": [
    "**Question 7:**  \n",
    "Plot the cost for each iteration and print the final loss"
   ]
  },
  {
   "cell_type": "code",
   "execution_count": null,
   "metadata": {},
   "outputs": [],
   "source": [
    "# Type your code here\n",
    "print('The final loss is: ',)"
   ]
  }
 ],
 "metadata": {
  "kernelspec": {
   "display_name": "Python 3",
   "language": "python",
   "name": "python3"
  },
  "language_info": {
   "codemirror_mode": {
    "name": "ipython",
    "version": 3
   },
   "file_extension": ".py",
   "mimetype": "text/x-python",
   "name": "python",
   "nbconvert_exporter": "python",
   "pygments_lexer": "ipython3",
   "version": "3.7.1"
  }
 },
 "nbformat": 4,
 "nbformat_minor": 2
}
