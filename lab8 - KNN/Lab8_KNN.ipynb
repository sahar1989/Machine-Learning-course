{
 "cells": [
  {
   "cell_type": "markdown",
   "metadata": {},
   "source": [
    "# Lab 8: K-Nearest Neighbors Classifier\n",
    "\n",
    "In this session, we illustrate how well accuracy measure evaluate the performance of a classifier in the case of skewed class where the number of sample on a given class is very big compared to size of other classes. Then, we present more robust metrics like \"**precision**\", \"**recall**\" and \"**F1-score**\" to evaluate performance a classifier.\n",
    "\n",
    "In the second part, we will implement a **K-nearest classifier**. It is a simple classifier but it may be efficient to resolve several classification problem. Then, we will assess our classifier with the new explored metrics."
   ]
  },
  {
   "cell_type": "markdown",
   "metadata": {},
   "source": [
    "## Preparation"
   ]
  },
  {
   "cell_type": "markdown",
   "metadata": {},
   "source": [
    "We'll need the following libraries:"
   ]
  },
  {
   "cell_type": "code",
   "execution_count": 1,
   "metadata": {},
   "outputs": [],
   "source": [
    "%matplotlib notebook\n",
    "%matplotlib inline\n",
    "import numpy as np\n",
    "import matplotlib.pyplot as plt\n",
    "from sklearn.datasets import load_breast_cancer\n",
    "import warnings\n",
    "from sklearn.model_selection import train_test_split\n",
    "from matplotlib.patches import Rectangle\n",
    "from  sklearn import metrics"
   ]
  },
  {
   "cell_type": "markdown",
   "metadata": {},
   "source": [
    "## Part 1: Skewed Dataset\n",
    "In this part, we will work with [breast cancer](http://scikit-learn.org/stable/modules/generated/sklearn.datasets.load_breast_cancer.html) dataset from sklearn library. It contains 30 quantitative features and one target with two labels (0:malignant / 1:benign). For this example, we will only use \"mean radius\" of tumor feature and we will also discard some sample to make dataset classes skewed. Then, we will calculate the accuracy of \"One_Val_Classifier\" that predict always 0 or 1. Finally, we will present the new metrics given above."
   ]
  },
  {
   "cell_type": "markdown",
   "metadata": {},
   "source": [
    "**Question 1: **\n",
    "- Load cancer dataset using [\"load_breast_cancer\"](http://scikit-learn.org/stable/modules/generated/sklearn.datasets.load_breast_cancer.html) function.\n",
    "- Display the classes labels using the attribute target_names.\n",
    "- Display the features labels using the attribute feature_names.\n",
    "- Display the dataset description using the attribute DESCR."
   ]
  },
  {
   "cell_type": "code",
   "execution_count": 2,
   "metadata": {},
   "outputs": [
    {
     "name": "stdout",
     "output_type": "stream",
     "text": [
      "['malignant' 'benign']\n",
      "['mean radius' 'mean texture' 'mean perimeter' 'mean area'\n",
      " 'mean smoothness' 'mean compactness' 'mean concavity'\n",
      " 'mean concave points' 'mean symmetry' 'mean fractal dimension'\n",
      " 'radius error' 'texture error' 'perimeter error' 'area error'\n",
      " 'smoothness error' 'compactness error' 'concavity error'\n",
      " 'concave points error' 'symmetry error' 'fractal dimension error'\n",
      " 'worst radius' 'worst texture' 'worst perimeter' 'worst area'\n",
      " 'worst smoothness' 'worst compactness' 'worst concavity'\n",
      " 'worst concave points' 'worst symmetry' 'worst fractal dimension']\n",
      ".. _breast_cancer_dataset:\n",
      "\n",
      "Breast cancer wisconsin (diagnostic) dataset\n",
      "--------------------------------------------\n",
      "\n",
      "**Data Set Characteristics:**\n",
      "\n",
      "    :Number of Instances: 569\n",
      "\n",
      "    :Number of Attributes: 30 numeric, predictive attributes and the class\n",
      "\n",
      "    :Attribute Information:\n",
      "        - radius (mean of distances from center to points on the perimeter)\n",
      "        - texture (standard deviation of gray-scale values)\n",
      "        - perimeter\n",
      "        - area\n",
      "        - smoothness (local variation in radius lengths)\n",
      "        - compactness (perimeter^2 / area - 1.0)\n",
      "        - concavity (severity of concave portions of the contour)\n",
      "        - concave points (number of concave portions of the contour)\n",
      "        - symmetry \n",
      "        - fractal dimension (\"coastline approximation\" - 1)\n",
      "\n",
      "        The mean, standard error, and \"worst\" or largest (mean of the three\n",
      "        largest values) of these features were computed for each image,\n",
      "        resulting in 30 features.  For instance, field 3 is Mean Radius, field\n",
      "        13 is Radius SE, field 23 is Worst Radius.\n",
      "\n",
      "        - class:\n",
      "                - WDBC-Malignant\n",
      "                - WDBC-Benign\n",
      "\n",
      "    :Summary Statistics:\n",
      "\n",
      "    ===================================== ====== ======\n",
      "                                           Min    Max\n",
      "    ===================================== ====== ======\n",
      "    radius (mean):                        6.981  28.11\n",
      "    texture (mean):                       9.71   39.28\n",
      "    perimeter (mean):                     43.79  188.5\n",
      "    area (mean):                          143.5  2501.0\n",
      "    smoothness (mean):                    0.053  0.163\n",
      "    compactness (mean):                   0.019  0.345\n",
      "    concavity (mean):                     0.0    0.427\n",
      "    concave points (mean):                0.0    0.201\n",
      "    symmetry (mean):                      0.106  0.304\n",
      "    fractal dimension (mean):             0.05   0.097\n",
      "    radius (standard error):              0.112  2.873\n",
      "    texture (standard error):             0.36   4.885\n",
      "    perimeter (standard error):           0.757  21.98\n",
      "    area (standard error):                6.802  542.2\n",
      "    smoothness (standard error):          0.002  0.031\n",
      "    compactness (standard error):         0.002  0.135\n",
      "    concavity (standard error):           0.0    0.396\n",
      "    concave points (standard error):      0.0    0.053\n",
      "    symmetry (standard error):            0.008  0.079\n",
      "    fractal dimension (standard error):   0.001  0.03\n",
      "    radius (worst):                       7.93   36.04\n",
      "    texture (worst):                      12.02  49.54\n",
      "    perimeter (worst):                    50.41  251.2\n",
      "    area (worst):                         185.2  4254.0\n",
      "    smoothness (worst):                   0.071  0.223\n",
      "    compactness (worst):                  0.027  1.058\n",
      "    concavity (worst):                    0.0    1.252\n",
      "    concave points (worst):               0.0    0.291\n",
      "    symmetry (worst):                     0.156  0.664\n",
      "    fractal dimension (worst):            0.055  0.208\n",
      "    ===================================== ====== ======\n",
      "\n",
      "    :Missing Attribute Values: None\n",
      "\n",
      "    :Class Distribution: 212 - Malignant, 357 - Benign\n",
      "\n",
      "    :Creator:  Dr. William H. Wolberg, W. Nick Street, Olvi L. Mangasarian\n",
      "\n",
      "    :Donor: Nick Street\n",
      "\n",
      "    :Date: November, 1995\n",
      "\n",
      "This is a copy of UCI ML Breast Cancer Wisconsin (Diagnostic) datasets.\n",
      "https://goo.gl/U2Uwz2\n",
      "\n",
      "Features are computed from a digitized image of a fine needle\n",
      "aspirate (FNA) of a breast mass.  They describe\n",
      "characteristics of the cell nuclei present in the image.\n",
      "\n",
      "Separating plane described above was obtained using\n",
      "Multisurface Method-Tree (MSM-T) [K. P. Bennett, \"Decision Tree\n",
      "Construction Via Linear Programming.\" Proceedings of the 4th\n",
      "Midwest Artificial Intelligence and Cognitive Science Society,\n",
      "pp. 97-101, 1992], a classification method which uses linear\n",
      "programming to construct a decision tree.  Relevant features\n",
      "were selected using an exhaustive search in the space of 1-4\n",
      "features and 1-3 separating planes.\n",
      "\n",
      "The actual linear program used to obtain the separating plane\n",
      "in the 3-dimensional space is that described in:\n",
      "[K. P. Bennett and O. L. Mangasarian: \"Robust Linear\n",
      "Programming Discrimination of Two Linearly Inseparable Sets\",\n",
      "Optimization Methods and Software 1, 1992, 23-34].\n",
      "\n",
      "This database is also available through the UW CS ftp server:\n",
      "\n",
      "ftp ftp.cs.wisc.edu\n",
      "cd math-prog/cpo-dataset/machine-learn/WDBC/\n",
      "\n",
      ".. topic:: References\n",
      "\n",
      "   - W.N. Street, W.H. Wolberg and O.L. Mangasarian. Nuclear feature extraction \n",
      "     for breast tumor diagnosis. IS&T/SPIE 1993 International Symposium on \n",
      "     Electronic Imaging: Science and Technology, volume 1905, pages 861-870,\n",
      "     San Jose, CA, 1993.\n",
      "   - O.L. Mangasarian, W.N. Street and W.H. Wolberg. Breast cancer diagnosis and \n",
      "     prognosis via linear programming. Operations Research, 43(4), pages 570-577, \n",
      "     July-August 1995.\n",
      "   - W.H. Wolberg, W.N. Street, and O.L. Mangasarian. Machine learning techniques\n",
      "     to diagnose breast cancer from fine-needle aspirates. Cancer Letters 77 (1994) \n",
      "     163-171.\n"
     ]
    }
   ],
   "source": [
    "# load breast cancer dataset\n",
    "# Type your code here\n",
    "cancer_database= load_breast_cancer()\n",
    "\n",
    "# print some information about the dataset\n",
    "# Type your code here\n",
    "\n",
    "print(cancer_database.target_names)\n",
    "print(cancer_database.feature_names)\n",
    "print(cancer_database.DESCR)\n",
    "\n"
   ]
  },
  {
   "cell_type": "markdown",
   "metadata": {},
   "source": [
    "Let's discard some samples to create a skewed dataset"
   ]
  },
  {
   "cell_type": "code",
   "execution_count": 3,
   "metadata": {},
   "outputs": [],
   "source": [
    "# discard some samples\n",
    "index=np.logical_or(cancer_database.data[:,0]>25,cancer_database.target==1)\n",
    "X=cancer_database.data[index,:]\n",
    "y=cancer_database.target[index,np.newaxis]\n",
    "# print(X)\n",
    "# print(y)"
   ]
  },
  {
   "cell_type": "markdown",
   "metadata": {},
   "source": [
    "**Question 2: **\n",
    "- Determine the number of malignant/benign tumor in the resulting dataset."
   ]
  },
  {
   "cell_type": "code",
   "execution_count": 4,
   "metadata": {},
   "outputs": [
    {
     "name": "stdout",
     "output_type": "stream",
     "text": [
      "The number of  benign tumor:  357\n",
      "The number of  malignant  tumor:  5\n"
     ]
    }
   ],
   "source": [
    "# number of malignant/benign tumor on the resulting dataset\n",
    "# Type your code here\n",
    "nbr_begnin = np.sum(y)\n",
    "nbr_malignant = y.shape[0] - nbr_begnin\n",
    "print(\"The number of  benign tumor: \",nbr_begnin)\n",
    "print(\"The number of  malignant  tumor: \",nbr_malignant)"
   ]
  },
  {
   "cell_type": "markdown",
   "metadata": {},
   "source": []
  },
  {
   "cell_type": "markdown",
   "metadata": {},
   "source": [
    "Let's plot the dataset"
   ]
  },
  {
   "cell_type": "code",
   "execution_count": 10,
   "metadata": {},
   "outputs": [
    {
     "data": {
      "text/plain": [
       "Text(0.5, 1.0, 'mean radius vs class')"
      ]
     },
     "execution_count": 10,
     "metadata": {},
     "output_type": "execute_result"
    },
    {
     "data": {
      "image/png": "[encoded data removed]",
      "text/plain": [
       "<Figure size 648x360 with 1 Axes>"
      ]
     },
     "metadata": {
      "needs_background": "light"
     },
     "output_type": "display_data"
    }
   ],
   "source": [
    "# plot dataset\n",
    "plt.figure(\"cancer database\",figsize=(9,5))\n",
    "plt.scatter(X[(y==1)[:,0],0],y[y==1],label='begnin',color=\"green\")\n",
    "plt.scatter(X[(y==0)[:,0],0],y[y==0],label='malignant', color=\"red\")\n",
    "plt.legend(loc='lower left', shadow=True, fontsize='x-large')\n",
    "plt.xlabel('mean radius')\n",
    "plt.ylabel('malignant/begnin class')\n",
    "plt.yticks([0,1])\n",
    "plt.title('mean radius vs class')"
   ]
  },
  {
   "cell_type": "markdown",
   "metadata": {},
   "source": [
    "<font color =\"red\">Observation</font>:\n",
    "- We assum the begnin has value of 1, while the malignant has value of 0"
   ]
  },
  {
   "cell_type": "markdown",
   "metadata": {},
   "source": [
    "**Question 3: **\n",
    "- Complete \"fit\" function in \"One_Val_Classifier\" class in order to assign to \"self.prediction\" variable the most existing class (0 or 1) in \"target\" array.\n",
    "- Complete \"predict\" function in \"One_Val_Classifier\" class to return an array composed of self.prediction having the shape (number of samples,1).\n",
    "- Complete \"score\" function in \"One_Val_Classifier\" class to return the prediction accuracy."
   ]
  },
  {
   "cell_type": "code",
   "execution_count": 5,
   "metadata": {},
   "outputs": [],
   "source": [
    "# implement One val classifier\n",
    "class One_Val_Classifier():\n",
    "    def __init__(self, default_prediction=None):\n",
    "        if (default_prediction!=None):\n",
    "            self.prediction = default_prediction\n",
    "    def fit(self,data,target):\n",
    "        self.m=data.shape[0]\n",
    "        self.n=data.shape[1]\n",
    "        if (target.shape[0]!=self.m):\n",
    "            raise ValueError('The number of sample in the data and in the target are not equal!')\n",
    "        # Type your code here\n",
    "        nbr_pos = nbr_begnin\n",
    "        nbr_neg = nbr_malignant\n",
    "        if (nbr_pos > nbr_neg):\n",
    "            self.prediction=1\n",
    "        else:\n",
    "            self.prediction=0\n",
    "    def predict(self,X):\n",
    "        # Type your code here\n",
    "        if(self.prediction == 1):\n",
    "            res = np.ones(self.m)[:, np.newaxis]\n",
    "        else:\n",
    "            res = np.zeros(self.m)[:, np.newaxis]\n",
    "        print(self.m)\n",
    "        return res\n",
    "    def score(self,predict,target):\n",
    "        if (predict.shape[0]!=target.shape[0]):\n",
    "            raise ValueError('The number of sample in the prediction and in the target are not equal!')\n",
    "        # Type your code here\n",
    "        print(sum(target==predict)/self.m)\n",
    "        return sum(target==predict)/self.m"
   ]
  },
  {
   "cell_type": "markdown",
   "metadata": {},
   "source": [
    "**Question 4: **\n",
    "- Call \"predict\" and \"score\" function from \"One_Val_Classifier\" class to calculate \"y_pred\" and \"accuracy\" variable."
   ]
  },
  {
   "cell_type": "code",
   "execution_count": 6,
   "metadata": {},
   "outputs": [
    {
     "name": "stdout",
     "output_type": "stream",
     "text": [
      "362\n",
      "[0.98618785]\n",
      "The accuracy of the one val Classifier is 98.619 % !\n"
     ]
    }
   ],
   "source": [
    "# train and predict with one val classifier\n",
    "One_Val_clf=One_Val_Classifier()\n",
    "One_Val_clf.fit(X,y)\n",
    "# Type your code here\n",
    "y_pred = One_Val_clf.predict(X)\n",
    "# print((y_pred))\n",
    "accuracy = One_Val_clf.score(y_pred, y)\n",
    "print(\"The accuracy of the one val Classifier is %.3f\"%(accuracy*100),\"% !\")"
   ]
  },
  {
   "cell_type": "markdown",
   "metadata": {},
   "source": [
    "<font color =\"red\">Observation</font>:\n",
    "The accuracy is up to more than 98%, which shows the predict method works well"
   ]
  },
  {
   "cell_type": "markdown",
   "metadata": {},
   "source": [
    "#### Confusion matrix\n",
    "The confusion matrix is a specific table layout that allows visualization of the performance of a classification algorithm. Each row of the matrix represents the number of samples in each predicted class while each column represents the number of samples in each actual class.\n",
    "![confusion_matrix](confusion_matrix.png)\n",
    "\n",
    "- <font color=\"green\">**TN (True Negative)**</font>**:** Number of sample predicted 0 (**Negative**) and they are actually in negative class 0 (**True** prediction). Also known as \"Correct rejection\"\n",
    "- <font color=\"red\">**FN (False Negative)**</font>**:** Number of sample predicted 0 (**Negative**) and they are actually in positive class 1 (**False** prediction). Also known as \"Miss\"\n",
    "- <font color=\"red\">**FP (False Positive)**</font>**:** Number of sample predicted 1 (**Positive**) and they are actually in negative class 0 (**False** prediction). Also known as \"False alarm\"\n",
    "- <font color=\"green\">**TP (True Positive)**</font>**:** Number of sample predicted 1 (**Positive**) and they are actually in positive class 1 (**True** prediction). Also known as \"Hit\"\n",
    "\n",
    "#### Precision\n",
    "Precision or positive predictive value is the fraction of the true positive prediction over all positive prediction (true and false ones). It reflect how confident is the classifier when detecting a positive sample. It is given by the following formulas:\n",
    "$$precision=\\frac{TP}{TP+FP}$$\n",
    "Therefore, higher precision imply less false alarm (FP).\n",
    "\n",
    "#### Recall\n",
    "Recall or sensitivity is the fraction of the true positive prediction over all actual positive samples. It reflect how confident is the classifier when rejecting a sample. It is given by the following formulas:\n",
    "$$recall=\\frac{TP}{TP+FN}$$\n",
    "Therefore, higher recall imply less positive sample non-detected (FN).  \n",
    "\n",
    "In general, there is a trade-off between precision and recall. For example, with a logistic classifier if we try to increase the decision threshold (when the probability exceed this value we predict 1 as class)  to enhance precision the recall will decrease and vice versa.\n",
    "\n",
    "#### F1-score\n",
    "Because of the trade-off between precision and recall we try other measurement, the F1-score, to evaluate the performance of the classifier. Therefore, we could use the F1-score as single value criteria to compare and choose between two models. This measurement reflect how well precision and recall. For instance, if both precision and recall are high the F1-score is high and vice versa.\n",
    "\n",
    "The F1-score is given by the following formulas:\n",
    "$$F_1=2\\times \\frac{precision\\times recall}{precision+recall}$$"
   ]
  },
  {
   "cell_type": "markdown",
   "metadata": {},
   "source": [
    "**Question 5: **\n",
    "- Calculate the following quantities FP (False Positive), FN (False Negative) and TN (True Negative).\n",
    "**Hint:** You can use an expression with [\"logical_and\"](https://docs.scipy.org/doc/numpy-1.14.0/reference/generated/numpy.logical_and.html) function similarly to the calculation of TP (True Positive).\n",
    "- Calculate \"precision\", \"recall\" and \"F1_score\" according to expressions given above."
   ]
  },
  {
   "cell_type": "code",
   "execution_count": 7,
   "metadata": {},
   "outputs": [
    {
     "name": "stdout",
     "output_type": "stream",
     "text": [
      "The calculated confusion matrix:\n",
      " [[  0   5]\n",
      " [  0 357]]\n",
      "The calculated precision: 98.619 %\n",
      "The calculated recall: 100.000 %\n",
      "The calculated F1_score: 99.305 %\n",
      "\n",
      "The sklearn confusion matrix:\n",
      " [[  0   5]\n",
      " [  0 357]]\n",
      "The sklearn precision: 0.9861878453038674\n",
      "The sklearn recall: 1.0\n",
      "The sklearn F1_score: 0.9930458970792767\n",
      "The sklearn classification report:\n",
      "               precision    recall  f1-score   support\n",
      "\n",
      "           0       0.00      0.00      0.00         5\n",
      "           1       0.99      1.00      0.99       357\n",
      "\n",
      "   micro avg       0.99      0.99      0.99       362\n",
      "   macro avg       0.49      0.50      0.50       362\n",
      "weighted avg       0.97      0.99      0.98       362\n",
      "\n"
     ]
    },
    {
     "name": "stderr",
     "output_type": "stream",
     "text": [
      "D:\\Study\\WPy-3670\\python-3.6.7.amd64\\lib\\site-packages\\sklearn\\metrics\\classification.py:1143: UndefinedMetricWarning: Precision and F-score are ill-defined and being set to 0.0 in labels with no predicted samples.\n",
      "  'precision', 'predicted', average, warn_for)\n"
     ]
    }
   ],
   "source": [
    "# calculate different metrics\n",
    "tp=np.logical_and(y==1,y_pred==1).sum()\n",
    "# Type your code here\n",
    "fp=np.logical_and(y==0, y_pred==1).sum()\n",
    "fn=np.logical_and(y==1, y_pred==0).sum()\n",
    "tn=np.logical_and(y==0, y_pred==0).sum()\n",
    "# Type your code here\n",
    "precision=tp/(tp+fp)\n",
    "recall=tp/(tp+fn)\n",
    "# Type your code here\n",
    "F1_score= 2 * ((precision*recall)/(precision+recall))\n",
    "\n",
    "\n",
    "print(\"The calculated confusion matrix:\\n\", np.array([[tn,fp],[fn,tp]]))\n",
    "print(\"The calculated precision: %.3f\"%(100*precision),\"%\")\n",
    "print(\"The calculated recall: %.3f\"%(100*recall),\"%\")\n",
    "print(\"The calculated F1_score: %.3f\"%(100*F1_score),\"%\")\n",
    "print()\n",
    "\n",
    "# use defined metrics from sklearn library\n",
    "print(\"The sklearn confusion matrix:\\n\",metrics.confusion_matrix(y, y_pred))\n",
    "print(\"The sklearn precision:\",metrics.precision_score(y, y_pred))\n",
    "print(\"The sklearn recall:\",metrics.recall_score(y, y_pred))\n",
    "print(\"The sklearn F1_score:\",metrics.f1_score(y, y_pred))\n",
    "print(\"The sklearn classification report:\\n\",metrics.classification_report(y, y_pred))"
   ]
  },
  {
   "cell_type": "markdown",
   "metadata": {},
   "source": [
    "<font color =\"red\">Observation</font>:\n",
    "- First, the self calculated values and the values calculated by function are the same.\n",
    "- Second, We have got 98.61% of precision which is pretty good.\n",
    "- Thirds, We have got recall of 1 which is perfect for this model as it’s also above 0.5.\n",
    "- Forth, The F1-score has the value of 99.3%, which is very good, while it takes both false positives and false negatives into account\n"
   ]
  },
  {
   "cell_type": "markdown",
   "metadata": {},
   "source": [
    "## Part 2: K-Nearest Neighbors\n",
    "\n",
    "The K-Nearest Neighbors algorithm is simple method used mainly for classification problem but there is also some version for regression problem. The main idea is to determine the most similar (closest) samples from the dataset to the new sample to predict. Then, we predict a value close and similar to the value of nearest neighbors from the dataset.  \n",
    "\n",
    "In regression problem we determine ,for example, the 5 nearest sample (K=5) to our sample. Then, we predict as output the average  or weighted average of 5 nearest sample. There is several way to determine the weight. Some of them use constant weight. Other method use weight that inversely vary regarding the distance between our sample and neighbor and they use some kernel like \"linear\", \"Gaussian\"… to select these weights. \n",
    "\n",
    "While for Classification problem, we select the K-nearest neighbors. Then, we make a vote between neighbors to decide which label (class) to predict for our sample. In this case, K (number of neighbors) shouldn't be a multiple of number of class to avoid ambiguous vote. We could also use weighted vote regarding to the distance between neighbors and the sample to predict.\n",
    "\n",
    "In this part, we will implement a K-nearest neighbors algorithm for classification problem. We will use euclidean distance to determine nearest neighbors. Then, we will use majority vote to decide which class to predict."
   ]
  },
  {
   "cell_type": "markdown",
   "metadata": {},
   "source": [
    "**Question 1: **\n",
    "- Load data from \"data_3.txt\" file. (use [loadtxt](https://docs.scipy.org/doc/numpy-1.13.0/reference/generated/numpy.loadtxt.html) function from numpy library).\n",
    "- Split the data into train, and test sets with a size of 75%, and 25% respectively.  \n",
    "**Hint: ** You can use [train_test_split](http://scikit-learn.org/stable/modules/generated/sklearn.model_selection.train_test_split.html) function from sklearn library (use the parameter random_state=0).\n",
    "- Extract the X and y from the train and test data."
   ]
  },
  {
   "cell_type": "code",
   "execution_count": 8,
   "metadata": {},
   "outputs": [
    {
     "name": "stdout",
     "output_type": "stream",
     "text": [
      "The size of training set is: (300, 3)\n",
      "The size of test set is: (100, 3)\n"
     ]
    }
   ],
   "source": [
    "# load data\n",
    "# Type your code here\n",
    "data =  np.loadtxt(\"data_3.txt\")\n",
    "#test size default size is 0.25 so no need to do it but I wrote it \n",
    "train_data, test_data = train_test_split(data, test_size=0.25, random_state=0)\n",
    "print(\"The size of training set is:\",train_data.shape)\n",
    "print(\"The size of test set is:\",test_data.shape)\n",
    "\n",
    "# extract data\n",
    "# Type your code here\n",
    "X_train= train_data[:,0:2]\n",
    "y_train= train_data[:,2] \n",
    "X_test= test_data[:,0:2]\n",
    "y_test= test_data[:,2]\n",
    "\n",
    "y_train=y_train.astype(int)\n",
    "y_test=y_test.astype(int)"
   ]
  },
  {
   "cell_type": "markdown",
   "metadata": {},
   "source": [
    "**Question 2: **\n",
    "- Implement the \"euclidean_dist\" function that calculates the euclidean distance (norm L2: sum of the square of the difference) between two vectors. (Use numpy.sum with **axis=ax**)  \n",
    "$Distance(x_1,x_2)=\\sqrt{\\sum_{i=0}^{n}(x_1(i)-x_2(i))²}$"
   ]
  },
  {
   "cell_type": "code",
   "execution_count": 9,
   "metadata": {},
   "outputs": [],
   "source": [
    "def euclidean_dist(x1,x2,ax=-1):\n",
    "    # Type your code here\n",
    "    dist = np.sum(np.sum((x1,(-1)*x2),axis=0)**2,axis=1)\n",
    "    distance = np.sqrt(dist)\n",
    "    return distance"
   ]
  },
  {
   "cell_type": "markdown",
   "metadata": {},
   "source": [
    "**Question 3: **\n",
    "- Implement \"Vote\" function that takes as input a matrix \"M\" of labels of neighborhood and the number \"k\" of neighbors to consider in the vote. Then, for each column it determines the most appeared class on the K nearest neighbors (K first lines) this is the predicted class.  \n",
    "**Hint: ** To determine the possible classes of the k nearest neighbors, you can use [numpy.unique](https://docs.scipy.org/doc/numpy/reference/generated/numpy.unique.html) with the argument return_counts = True and axis = 0. \n",
    "The function Vote returns the class having the maximum count. You can use [numpy.argmax](https://docs.scipy.org/doc/numpy/reference/generated/numpy.argmax.html) of the count of each class the determine the predicted class."
   ]
  },
  {
   "cell_type": "code",
   "execution_count": 10,
   "metadata": {},
   "outputs": [],
   "source": [
    "def Vote(M,k):\n",
    "    # M: neighborhood matrix it contains on each columns labels of the nearest neighbor in order.\n",
    "    # return: predicted label for each columns (samples)\n",
    "    # Type your code here\n",
    "    uniq, cnt = np.unique(M[0:k,0],return_counts=True, axis=0)\n",
    "    vote=uniq[np.argmax(cnt)]\n",
    "    return vote"
   ]
  },
  {
   "cell_type": "markdown",
   "metadata": {},
   "source": [
    "**Question 4**\n",
    "- Complete the \"KNN\" function:\n",
    "     - Use \"euclidean_dist\" to calculate the distance matrix \"D\" that contains distance between the \"ith\" sample to predict in the array \"x\" and each sample in the training set \"data_x\".\n",
    "     - Then, you may use [argsort](https://docs.scipy.org/doc/numpy/reference/generated/numpy.argsort.html) function to determine indices that sort the matrix \"D\" among column\n",
    "     - Apply these indices to sort labels vector \"data_y\" from the nearest to the farthest neighbor.\n",
    "     - Finally, you should call \"Vote\" function on the resulting sorted label vector to determine the prediction (most appeared class on the K nearest neighbors to the \"ith\" sample in \"x\" array)"
   ]
  },
  {
   "cell_type": "code",
   "execution_count": 11,
   "metadata": {},
   "outputs": [],
   "source": [
    "\n",
    "def KNN(data_x,x,data_y,k):\n",
    "    # data_x: training set point\n",
    "    # x: points to predict\n",
    "    # data_y: training set labels\n",
    "    # k: number of nearest neighbors to consider\n",
    "    # return: predition for each sample on \"x\" array\n",
    "    pred=np.zeros((x.shape[0],1),dtype=int)\n",
    "    for i in range(x.shape[0]):\n",
    "        # Type your code here\n",
    "        D=euclidean_dist(x[i,:],data_x)\n",
    "        index_sort = np.argsort(D[:,np.newaxis],axis=0)\n",
    "        neigboor=data_y[index_sort]\n",
    "        pred[i,0]=Vote(neigboor,k)\n",
    "    return pred"
   ]
  },
  {
   "cell_type": "markdown",
   "metadata": {},
   "source": [
    "**Question 5**\n",
    "- Try the KNN classifier to predict the classes of the data points (-0.295,0.4), (-0.2, 0.4), (0.2,-0.2)."
   ]
  },
  {
   "cell_type": "code",
   "execution_count": 22,
   "metadata": {},
   "outputs": [
    {
     "name": "stdout",
     "output_type": "stream",
     "text": [
      "The predictions for stared point on the graph are: [ True  True False]\n"
     ]
    }
   ],
   "source": [
    "# number of nearest neighbors to consider\n",
    "K=25\n",
    "# try the K-nearest neighbors classifier\n",
    "# Type your code here\n",
    "\n",
    "x_try = np.array([[-0.295, 0.4], [-0.2,0.4],[0.2,-0.2]])\n",
    "y_try_pred = KNN(X_train,x_try,y_train,K)\n",
    "print(\"The predictions for stared point on the graph are:\",y_try_pred[:,0]==1)"
   ]
  },
  {
   "cell_type": "markdown",
   "metadata": {},
   "source": [
    "**Question 6**\n",
    "- Try the KNN classifier to predict the classes of the test data.\n",
    "- Calculate the accuracies using different values of the nearest neighbors size k."
   ]
  },
  {
   "cell_type": "code",
   "execution_count": 23,
   "metadata": {},
   "outputs": [
    {
     "name": "stdout",
     "output_type": "stream",
     "text": [
      "Test accuracy = [0.89] %\n"
     ]
    }
   ],
   "source": [
    "# Type your code here\n",
    "y_test_pred = KNN(X_train,X_test,y_train,K)\n",
    "a = y_test_pred==y_test[:,np.newaxis]\n",
    "print(\"Test accuracy =\",sum(y_test_pred==y_test[:,np.newaxis])/len(y_test),\"%\")"
   ]
  },
  {
   "cell_type": "code",
   "execution_count": 24,
   "metadata": {},
   "outputs": [
    {
     "data": {
      "text/plain": [
       "<matplotlib.legend.Legend at 0xaf2dda0>"
      ]
     },
     "execution_count": 24,
     "metadata": {},
     "output_type": "execute_result"
    },
    {
     "data": {
      "image/png": "[encoded data removed]",
      "text/plain": [
       "<Figure size 648x360 with 1 Axes>"
      ]
     },
     "metadata": {
      "needs_background": "light"
     },
     "output_type": "display_data"
    }
   ],
   "source": [
    "# calculate the mesh grid for contour plot\n",
    "u1=np.linspace(-0.6,0.3,100)\n",
    "u2=np.linspace(-0.8,0.6,100)\n",
    "u1, u2 = np.meshgrid(u1, u2)\n",
    "X3=np.concatenate((u1[...,np.newaxis],u2[...,np.newaxis]),axis=-1)\n",
    "X3bis=X3.reshape((X3.shape[0]*X3.shape[1],X3.shape[2]))\n",
    "Zbis =  KNN(X_train,X3bis,y_train,K)\n",
    "Z=Zbis.reshape((X3.shape[0],X3.shape[1]))\n",
    "\n",
    "# plot data and boundary\n",
    "plt.figure(\"K-nearest neighbors boundary\",figsize=(9,5))\n",
    "fail_train=plt.scatter(train_data[:,0][train_data[:,2]==0], train_data[:,1][train_data[:,2]==0],  color='gray',label='fail')\n",
    "succ_train=plt.scatter(train_data[:,0][train_data[:,2]==1], train_data[:,1][train_data[:,2]==1],  color='gray',marker='+',s=80, label='success')\n",
    "fail_test=plt.scatter(test_data[:,0][test_data[:,2]==0], test_data[:,1][test_data[:,2]==0],  color='red',label='fail')\n",
    "succ_test=plt.scatter(test_data[:,0][test_data[:,2]==1], test_data[:,1][test_data[:,2]==1],  color='green',marker='+',s=80, label='success')\n",
    "plt.scatter(x_try[:,0],x_try[:,1],color=\"black\",marker='*',s=70)\n",
    "ctr = plt.contour(u1, u2, Z,1,colors=\"blue\")\n",
    "plt.xlabel('x_1')\n",
    "plt.ylabel('x_2')\n",
    "boundary = Rectangle((0, 0), 3, 4, fc=\"w\", fill=False, edgecolor=\"b\", linewidth=1)\n",
    "plt.legend([boundary,fail_test,succ_test,fail_train,succ_train], (\"decision boundary\",\"test data (fail)\",\"test data (success)\",\"train data (fail)\",\"train data (success)\"),loc='best')\n"
   ]
  },
  {
   "cell_type": "markdown",
   "metadata": {},
   "source": [
    "<font color =\"red\">Observation</font>:\n",
    "- First, which the changfe of K value, the boundary shows different fit results.\n",
    "- The algorithm is simple, but it works well for classification and regression predictive problems.\n"
   ]
  },
  {
   "cell_type": "code",
   "execution_count": null,
   "metadata": {},
   "outputs": [],
   "source": []
  }
 ],
 "metadata": {
  "kernelspec": {
   "display_name": "Python 3",
   "language": "python",
   "name": "python3"
  },
  "language_info": {
   "codemirror_mode": {
    "name": "ipython",
    "version": 3
   },
   "file_extension": ".py",
   "mimetype": "text/x-python",
   "name": "python",
   "nbconvert_exporter": "python",
   "pygments_lexer": "ipython3",
   "version": "3.6.7"
  }
 },
 "nbformat": 4,
 "nbformat_minor": 2
}
