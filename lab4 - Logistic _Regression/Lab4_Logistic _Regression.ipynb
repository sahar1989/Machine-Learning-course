{
 "cells": [
  {
   "cell_type": "markdown",
   "metadata": {},
   "source": [
    "# Lab 4: Logistic Regression (continuation) "
   ]
  },
  {
   "cell_type": "markdown",
   "metadata": {},
   "source": [
    "This lab is divided into two parts. The first one demonstrates the efficiency of using multiple and polynomial features in logistic regression. The second part includes data analysis techniques. "
   ]
  },
  {
   "cell_type": "markdown",
   "metadata": {},
   "source": [
    "<h2>Preparation</h2>"
   ]
  },
  {
   "cell_type": "markdown",
   "metadata": {},
   "source": [
    "We'll need the following libraries:"
   ]
  },
  {
   "cell_type": "code",
   "execution_count": 2,
   "metadata": {
    "collapsed": true
   },
   "outputs": [],
   "source": [
    "import numpy as np\n",
    "import matplotlib.pyplot as plt\n",
    "from mpl_toolkits.mplot3d.axes3d import*\n",
    "from matplotlib import cm\n",
    "from matplotlib.patches import Rectangle\n",
    "from scipy.optimize import fmin_bfgs"
   ]
  },
  {
   "cell_type": "markdown",
   "metadata": {},
   "source": [
    "### Part 1: Training Multiple features using Microchip dataset"
   ]
  },
  {
   "cell_type": "markdown",
   "metadata": {},
   "source": [
    "The microchip data set contains 3 columns. The scores result of two test process on a manufactured microchips is presented in the 2 first columns. While the third column indicates if the corresponding microchip were accepted or rejected."
   ]
  },
  {
   "cell_type": "markdown",
   "metadata": {},
   "source": [
    "**Question 1: **  \n",
    "We want to use logistic regression to predict whether a microship is accepted or rejected based on its results on the two tests.\n",
    "- Load data from \"microchip.txt\" file and extract the features and the output.  \n",
    "**Hint:** You can use [loadtxt](https://docs.scipy.org/doc/numpy-1.13.0/reference/generated/numpy.loadtxt.html) function from numpy library.\n",
    "- Determine the number of the tested microships \"m\".  \n",
    "\n",
    "**Note:** The two tests score have the same scale [-1,1]. Thus, we don't need to do feature normalization."
   ]
  },
  {
   "cell_type": "code",
   "execution_count": 3,
   "metadata": {},
   "outputs": [
    {
     "name": "stdout",
     "output_type": "stream",
     "text": [
      "(118, 1)\n"
     ]
    }
   ],
   "source": [
    "# load data\n",
    "# Type your code here\n",
    "\n",
    "microchip_data = np.loadtxt('microchip.txt',delimiter=',')\n",
    "\n",
    "# Type your code here\n",
    "# we add np.newaxis in the indexing to obtain an array with shape (m,1) instead of (m,)\n",
    "x_1 = microchip_data[:,0]# we add np.newaxis in the indexing to obtain an array \n",
    "x_1 = x_1[:,np.newaxis] # feature1                              \n",
    "x_2 = microchip_data[:,1] # feature2\n",
    "x_2 = x_2[:,np.newaxis]\n",
    "# The output we want to predict \n",
    "Y = microchip_data[:,2]  # we add np.newaxis in the indexing to obtain an array with shape (100,1) instead of (100,)\n",
    "Y = Y[:,np.newaxis]\n",
    "# Type your code here\n",
    "m =  microchip_data.shape[0]# number of microchips\n",
    "print(x_1.shape)\n"
   ]
  },
  {
   "cell_type": "markdown",
   "metadata": {},
   "source": [
    "Let's visualize the data"
   ]
  },
  {
   "cell_type": "code",
   "execution_count": 4,
   "metadata": {},
   "outputs": [
    {
     "data": {
      "image/png": "[encoded data removed]",
      "text/plain": [
       "<Figure size 648x360 with 1 Axes>"
      ]
     },
     "metadata": {
      "needs_background": "light"
     },
     "output_type": "display_data"
    }
   ],
   "source": [
    "# visualize data\n",
    "%matplotlib inline\n",
    "plt.figure(\"Visualize microchip data\",figsize=(9,5))\n",
    "plt.scatter(x_1[Y==0], x_2[Y==0],  color='red',label='fail')\n",
    "plt.scatter(x_1[Y==1], x_2[Y==1],  color='green',marker='+',s=80, label='success')\n",
    "plt.xlabel('Test 1 score')\n",
    "plt.ylabel('Test 2 score')\n",
    "plt.title('Accepted/Rejected Microchip')\n",
    "legend = plt.legend(loc='lower left', shadow=True, fontsize='x-large')"
   ]
  },
  {
   "cell_type": "markdown",
   "metadata": {},
   "source": [
    "**Question 2: ** \n",
    "- Implement the \"Poly_Features\" function that concatenate to data array the different possible power (below deg) of feature vector f1 and f2 as shown below:$$data=[data,~f_1,~ f_1^2,~ \\dots,~ f_1^{deg},~ f_2,~ f_2^2,~ \\dots,~ f_2^{deg}]$$\n",
    "**Hint:** You can use numpy [concatenate](https://docs.scipy.org/doc/numpy/reference/generated/numpy.concatenate.html) function (put two columns or array together) with the parameter **axis=ax**."
   ]
  },
  {
   "cell_type": "code",
   "execution_count": 5,
   "metadata": {
    "collapsed": true
   },
   "outputs": [],
   "source": [
    "def Poly_Features(data,f1,f2,deg,ax):\n",
    "    # Integrate polynomial terms (x_1^i and x_2^i where i<=degree)\n",
    "    # Type your code here\n",
    "#     for i in range(1,deg+1):\n",
    "#         f1d = f1**i\n",
    "#         data = np.concatenate((data,f1d),axis = 1)\n",
    "#     for i in range(1,deg+1):\n",
    "#         f2d = f2**i\n",
    "#         data = np.concatenate((data,f2d),axis = 1)\n",
    "    for i in range(1,deg+1): \n",
    "        for j in range(i+1):\n",
    "            terms= (f1**(i-j) * f2**j)\n",
    "            data = np.append(data,terms,axis = ax)        \n",
    "    return data"
   ]
  },
  {
   "cell_type": "markdown",
   "metadata": {},
   "source": [
    "**Question 3: ** \n",
    "- Use the implemented function \"Poly_Features\" to generate the array of features X.\n",
    "- Determine the number of features n."
   ]
  },
  {
   "cell_type": "code",
   "execution_count": 6,
   "metadata": {},
   "outputs": [
    {
     "name": "stdout",
     "output_type": "stream",
     "text": [
      "(118, 1)\n",
      "(118, 15)\n"
     ]
    }
   ],
   "source": [
    "degree=4    # degree of polynomial features\n",
    "#X=np.ones((m,1))   # initialize X array\n",
    "X = np.ones(microchip_data.shape[0])[:,np.newaxis]\n",
    "print(X.shape)\n",
    "# add polynomial features to the array data X\n",
    "# Type your code here\n",
    "X = Poly_Features(X,x_1, x_2,degree,1)\n",
    "print(X.shape)\n",
    "n = 2"
   ]
  },
  {
   "cell_type": "markdown",
   "metadata": {},
   "source": [
    "**Question 4: **  \n",
    "- Create a sigmoid function that returns $sigmoid(z)=\\frac{1}{1+e^{-z}}$  \n",
    "**Hint:** For a vectorized implementation:\n",
    "- Use [<code>numpy.ones</code>](https://docs.scipy.org/doc/numpy-1.14.0/reference/generated/numpy.ones.html) to have a numerator with the same shape of z\n",
    "- Use [<code>numpy.exp</code>](https://docs.scipy.org/doc/numpy/reference/generated/numpy.exp.html)"
   ]
  },
  {
   "cell_type": "code",
   "execution_count": 7,
   "metadata": {
    "collapsed": true
   },
   "outputs": [],
   "source": [
    "def sigmoid(z):\n",
    "    # Type your code here\n",
    "    a1 = np.ones(z.shape)\n",
    "    sigmoid=a1/(a1+np.exp(-z))\n",
    "    return sigmoid"
   ]
  },
  {
   "cell_type": "markdown",
   "metadata": {},
   "source": [
    "**Question 5: **\n",
    "- Create your logistic regression predict function\n",
    "$$yhat=sigmoid(\\theta^\\top x)=\\frac{1}{1+e^{-\\theta^\\top x}}$$\n",
    "**Hint:** Use the sigmoid function  \n",
    "This new hypothesis formulas will ensure: $0\\leq yhat_i\\leq 1$  "
   ]
  },
  {
   "cell_type": "code",
   "execution_count": 8,
   "metadata": {
    "collapsed": true
   },
   "outputs": [],
   "source": [
    "# Create predict function\n",
    "def predict(x,theta):\n",
    "    # Type your code here\n",
    "    yhat=0\n",
    "    yhat = sigmoid(np.dot(X,theta))\n",
    "    return yhat"
   ]
  },
  {
   "cell_type": "markdown",
   "metadata": {},
   "source": [
    "**Question 6:** \n",
    "- Store in the variable m the number of samples.\n",
    "- Define the criterion or cost function that returns the NLL (Negative Log Likelihood Error):  \n",
    "**Negative Log Likelihood Error (NLL)**: $$cost=J(\\theta)=\\frac{-1}{m}\\sum_{i=1}^{m}\\left [y\\times log(yhat+(1-y)\\times log(1-yhat)\\right ]$$\n",
    "**Hint:** For a vectorized implementation:\n",
    "- Use [<code>numpy.sum</code>](https://docs.scipy.org/doc/numpy-1.15.1/reference/generated/numpy.sum.html) and [<code>numpy.log</code>](https://docs.scipy.org/doc/numpy-1.15.0/reference/generated/numpy.log.html)"
   ]
  },
  {
   "cell_type": "code",
   "execution_count": 9,
   "metadata": {
    "collapsed": true
   },
   "outputs": [],
   "source": [
    "def NLL_cost(yhat, y):\n",
    "    # Type your code here\n",
    "     # Type your code here\n",
    "    m=y.shape[0]\n",
    "    a1 = np.ones((y.shape[0],1))   \n",
    "    J =(-np.sum((np.log(yhat)*y)+(np.log(a1-yhat)*(a1-y))))/m\n",
    "    return J "
   ]
  },
  {
   "cell_type": "markdown",
   "metadata": {},
   "source": [
    "**Question 7:** \n",
    "The gradient vector of the logistic cost function is calculated as following: $$\\nabla J(\\theta) = \\begin{bmatrix}\\frac{\\partial J(\\theta)}{\\partial \\theta_0}\n",
    "\\\\ \\frac{\\partial J(\\theta)}{\\partial \\theta_1}\n",
    "\\\\ \\vdots\n",
    "\\\\ \\frac{\\partial J(\\theta)}{\\partial \\theta_{n-1}}\n",
    "\\end{bmatrix}$$ \n",
    "where: $\\frac{\\partial J(\\theta)}{\\partial \\theta_j} = \\frac{1}{m} \\sum_{i=1}^{m}{(yhat_i - y_i)~x_{ij}} ~~for~ j=0\\dots n-1$\n",
    "- Implement the \"grad_cost_func\" function that evaluates the gradient of logistic cost function.  \n",
    "**Hint:** You can use the vectorized form: $\\nabla J(\\theta) =\\frac{1}{m} x^T(yhat-y)$"
   ]
  },
  {
   "cell_type": "code",
   "execution_count": 10,
   "metadata": {
    "collapsed": true
   },
   "outputs": [],
   "source": [
    "def grad_cost_func(theta, X, Y):\n",
    "    # Type your code here\n",
    "    m = Y.shape[0]\n",
    "    yhat=0\n",
    "    yhat=predict(X,theta)\n",
    "    g= np.dot(X.transpose(),(yhat-Y))/m\n",
    "    return g"
   ]
  },
  {
   "cell_type": "markdown",
   "metadata": {},
   "source": [
    "**Question 8: **\n",
    "- Call \"fmin_bfgs\" function to calculate the optimal theta. This function take as parameters: the name of cost function (\"NLL_cost_fn\"), the name of gradient cost function (\"grad_cost_fn\") and the initial theta (\"theta0\").\n",
    "- Print the optimal theta and the final error."
   ]
  },
  {
   "cell_type": "code",
   "execution_count": 11,
   "metadata": {
    "collapsed": true
   },
   "outputs": [],
   "source": [
    "def NLL_cost_fn(theta):\n",
    "    J=NLL_cost(predict(X,theta[:,np.newaxis]), Y)\n",
    "    return J"
   ]
  },
  {
   "cell_type": "code",
   "execution_count": 41,
   "metadata": {
    "collapsed": true
   },
   "outputs": [],
   "source": [
    "def grad_cost_fn(theta):\n",
    "    g=grad_cost_func(theta[:,np.newaxis], X, Y)\n",
    "    g.shape=(g.shape[0],)\n",
    "    return g  "
   ]
  },
  {
   "cell_type": "code",
   "execution_count": 42,
   "metadata": {},
   "outputs": [
    {
     "name": "stdout",
     "output_type": "stream",
     "text": [
      "(15, 1)\n",
      "Optimization terminated successfully.\n",
      "         Current function value: 0.321905\n",
      "         Iterations: 197\n",
      "         Function evaluations: 198\n",
      "         Gradient evaluations: 198\n",
      "The optimal value of theta that minimize cost function is:  [  2.9830595   -1.0623118    0.99765139   1.11859025  -5.81579828\n",
      "  -2.64655041   8.50777566  14.00712848  23.09931758  11.29857555\n",
      " -17.99868627  -4.58511047 -36.94084641 -28.96180237 -16.61506806]\n",
      "Final error =  0.3219045315111062\n"
     ]
    }
   ],
   "source": [
    "# calculate optimal theta\n",
    "#theta0=np.zeros(shape=(m,m))\n",
    "theta0 = np.zeros(shape=(X.shape[1], 1))\n",
    "print(theta0.shape)\n",
    "# Type your code here\n",
    "#Thopt,_,_,_,_,_,_, =  fmin_bfgs(NLL_cost_fn, theta0, grad_cost_fn, full_output=True).\n",
    "Thopt,_,_,_,_,_,_, =  fmin_bfgs(NLL_cost_fn, theta0, grad_cost_fn, full_output=True)\n",
    "print(\"The optimal value of theta that minimize cost function is: \",Thopt)\n",
    "print(\"Final error = \",NLL_cost(predict(X,Thopt[:,np.newaxis]),Y))"
   ]
  },
  {
   "cell_type": "markdown",
   "metadata": {},
   "source": [
    "**Question 9: **\n",
    "- Use the optimal theta calculated to predict a microchip result (accepted or rejected) that has a score of 0.5 in test 1 and a score of -0.5 in test 2 and the acceptance probability."
   ]
  },
  {
   "cell_type": "code",
   "execution_count": 43,
   "metadata": {},
   "outputs": [
    {
     "name": "stdout",
     "output_type": "stream",
     "text": [
      "With an admission probability:  [8.87414430e-01 9.34746604e-01 9.37547802e-01 9.53849365e-01\n",
      " 8.68869235e-01 8.97219723e-01 9.41298782e-01 8.24625090e-01\n",
      " 7.44770831e-01 5.98831694e-01 7.37337670e-01 7.52444507e-01\n",
      " 8.04126792e-01 5.73863432e-01 8.04562562e-01 8.69538195e-01\n",
      " 9.39359996e-01 7.42674359e-01 9.34881617e-01 8.08399332e-01\n",
      " 3.47425605e-01 5.75616240e-01 5.09881813e-01 2.21411404e-01\n",
      " 5.29689861e-01 3.66580729e-01 7.81683681e-01 3.47946243e-01\n",
      " 9.65170983e-01 8.52614595e-01 2.13300116e-01 8.38248047e-01\n",
      " 9.51582502e-01 9.68025513e-01 9.66640576e-01 9.58082855e-01\n",
      " 8.52890276e-01 9.26907034e-01 9.38325483e-01 8.83830591e-01\n",
      " 9.38923271e-01 9.26162823e-01 8.35762258e-01 9.40664605e-01\n",
      " 9.03659616e-01 9.21690442e-01 3.99215262e-01 9.34433254e-01\n",
      " 4.08903353e-01 6.08441671e-01 9.34007174e-01 9.63252845e-01\n",
      " 9.62685315e-01 9.71423549e-01 9.68936598e-01 9.52245138e-01\n",
      " 9.56279252e-01 8.40656353e-01 1.41696478e-02 4.16932461e-01\n",
      " 8.37739534e-01 2.30650881e-02 5.77413198e-03 2.61778012e-01\n",
      " 9.22441165e-02 7.79702329e-03 3.09676250e-01 1.02204680e-02\n",
      " 1.97371318e-02 1.21537175e-01 2.20959916e-02 2.83854128e-02\n",
      " 1.36179106e-02 2.58967168e-02 7.58589345e-02 6.12568869e-01\n",
      " 8.85700018e-01 6.83687429e-01 1.67843149e-02 6.90022954e-04\n",
      " 3.49479936e-01 2.48923767e-01 5.68766985e-03 3.86348244e-01\n",
      " 7.58675640e-06 8.44251730e-02 3.18986091e-02 1.15025177e-02\n",
      " 8.49299129e-01 2.78089227e-01 7.33493842e-02 4.02345024e-01\n",
      " 6.70488500e-01 1.18872457e-01 6.66620055e-02 5.18807963e-04\n",
      " 3.03208287e-07 1.86788019e-02 6.54462247e-07 9.69506915e-05\n",
      " 2.73290952e-02 5.55069193e-05 3.42860613e-02 2.62047042e-05\n",
      " 5.73813846e-01 2.84133046e-02 6.41262211e-01 9.40666416e-01\n",
      " 2.15748161e-01 1.78450874e-03 4.18233773e-06 4.50538016e-03\n",
      " 1.09643186e-03 2.64364605e-02 5.91256483e-01 1.27797348e-02\n",
      " 2.03160020e-02 8.77957368e-01]\n"
     ]
    }
   ],
   "source": [
    "# predit microchip result\n",
    "# Type your code here\n",
    "# Type your code here\n",
    "theta_opt= Thopt\n",
    "# predict student result\n",
    "\n",
    "test1 = 0.5\n",
    "test2 = -0.5\n",
    "result = sigmoid(np.dot(X, theta_opt))\n",
    "\n",
    "# result = sigmoid(np.dot(np.array([1,test1, test2]), theta_opt))\n",
    "\n",
    "# print(\"The predicted result of microchip with {0} and {1} scores is: {2}\".format(test1,test2,['Rejected Microchip','Accepted'][int(result)]))\n",
    "print(\"With an admission probability: \",result)\n"
   ]
  },
  {
   "cell_type": "markdown",
   "metadata": {},
   "source": [
    "Let's visualize the decision boundaries."
   ]
  },
  {
   "cell_type": "code",
   "execution_count": 44,
   "metadata": {},
   "outputs": [
    {
     "name": "stdout",
     "output_type": "stream",
     "text": [
      "(50,)\n",
      "(50,)\n",
      "(50, 50, 1)\n",
      "(50, 50, 15)\n",
      "(15,)\n"
     ]
    },
    {
     "data": {
      "text/plain": [
       "<matplotlib.legend.Legend at 0xc751eb8>"
      ]
     },
     "execution_count": 44,
     "metadata": {},
     "output_type": "execute_result"
    },
    {
     "data": {
      "image/png": "[encoded data removed]",
      "text/plain": [
       "<Figure size 648x360 with 1 Axes>"
      ]
     },
     "metadata": {},
     "output_type": "display_data"
    }
   ],
   "source": [
    "# calculate the mesh grid for contour plot\n",
    "u1=np.linspace(-1,1.5,50)\n",
    "u2=np.linspace(-1,1.5,50)\n",
    "print(\"u1-->\",u1.shape)\n",
    "print(u2.shape)\n",
    "u1, u2 = np.meshgrid(u1, u2)\n",
    "\n",
    "X3=np.ones((*u1.shape,1))\n",
    "print(\"X3-->\",X3.shape)\n",
    "X3=Poly_Features(X3,u1[...,np.newaxis],u2[...,np.newaxis],degree,-1)\n",
    "# X3=Poly_Features(X3,u1,u2,degree,-1)\n",
    "print(\"X3-->\",X3.shape)\n",
    "print(\"Thopt-->\",Thopt.shape)\n",
    "Z=np.dot(X3,Thopt)\n",
    "\n",
    "# plot descision boundries\n",
    "plt.figure(\"Microchip decision boundries\",figsize=(9,5))\n",
    "fail=plt.scatter(x_1[Y==0], x_2[Y==0],  color='red',label='fail')\n",
    "success=plt.scatter(x_1[Y==1], x_2[Y==1],  color='green',marker='+',s=80,label='success')\n",
    "plt.xlabel('Test 1 score')\n",
    "plt.ylabel('Test 2 score')\n",
    "plt.title('Accepted/Rejected Microchip _ Sahar-Trung')\n",
    "ctr = plt.contour(u1, u2, Z,0,colors=\"blue\")\n",
    "extra = Rectangle((0, 0), 3, 4, fc=\"w\", fill=False, edgecolor=\"b\", linewidth=1)\n",
    "plt.legend([extra,fail,success], (\"decision boundries\",\"fail\",\"success\"),loc='best')"
   ]
  },
  {
   "cell_type": "markdown",
   "metadata": {},
   "source": [
    " **Question 10: ** \n",
    " - Change the value of the variable \"degree\" and interpret the modification on the decision boundaries."
   ]
  },
  {
   "cell_type": "markdown",
   "metadata": {},
   "source": [
    "**Question 11: ** \n",
    "- Implement the \"Inter_Features\" function that concatenate to data array the different possible power (below deg) of feature vector f1 and f2 as shown below:$$data=[data,~f_1^i~f_2^j ~ where ~ i+j~<=~degree]$$\n",
    "**Hint:** You can use numpy [concatenate](https://docs.scipy.org/doc/numpy/reference/generated/numpy.concatenate.html) function (put two columns or array together)  with the parameter **axis=ax**.."
   ]
  },
  {
   "cell_type": "code",
   "execution_count": 45,
   "metadata": {
    "collapsed": true
   },
   "outputs": [],
   "source": [
    "def Inter_Features(data,f1,f2,deg,ax):\n",
    "    # Integrate interaction terms (x_1^i*x_2^j where i+j<=degree)\n",
    "     # Integrate polynomial terms (x_1^i and x_2^i where i<=degree)\n",
    "#     for i in range(1,deg+1):\n",
    "#         for j in range(deg-i):\n",
    "#             terms= (f1**(i) * f2**j)\n",
    "#            #out= np.hstack((out,terms))\n",
    "#             data = np.concatenate((data,terms),axis=ax)\n",
    "            #data = np.append(data,terms,axis = ax) \n",
    "#     # Type your code here\n",
    "    for i in range(1,deg+1):\n",
    "        for j in range(i+1):\n",
    "            terms= (f1**(i-j) * f2**j)\n",
    "            data = np.append(data,terms,axis = ax) \n",
    "    return data"
   ]
  },
  {
   "cell_type": "markdown",
   "metadata": {},
   "source": [
    "**Question 12: ** \n",
    "- Use the implemented function \"Inter_Features\" to generate the array of features X.\n",
    "- Determine the number of features n."
   ]
  },
  {
   "cell_type": "code",
   "execution_count": 46,
   "metadata": {
    "collapsed": true
   },
   "outputs": [
    {
     "name": "stdout",
     "output_type": "stream",
     "text": [
      "(118, 15)\n"
     ]
    }
   ],
   "source": [
    "degree=4 # degree of polynomial feature\n",
    "#X=np.ones((m,1))   # initialize X array\n",
    "X = np.ones(microchip_data.shape[0])[:,np.newaxis]\n",
    "\n",
    "\n",
    "\n",
    "X = Inter_Features(X,x_1, x_2,degree,1)\n",
    "#X = X1.reshape(X.shape[0]*X.shape[1],1)\n",
    "print(X.shape)\n",
    "n = 2\n",
    "\n",
    "# # add polynomial features to the array data X\n",
    "# # Type your code here\n",
    "# X = \n",
    "# n = "
   ]
  },
  {
   "cell_type": "markdown",
   "metadata": {},
   "source": [
    "**Question 13: **\n",
    "- Call \"fmin_bfgs\" function to calculate the optimal theta. This function take as parameters: the name of cost function (\"NLL_cost_fn\"), the name of gradient cost function (\"grad_cost_fn\") and the initial theta (\"theta0\").\n",
    "- Print the optimal theta and the final error."
   ]
  },
  {
   "cell_type": "code",
   "execution_count": 47,
   "metadata": {
    "collapsed": true
   },
   "outputs": [],
   "source": [
    "def NLL_cost_fn(theta):\n",
    "    J=NLL_cost(predict(X,theta[:,np.newaxis]), Y)\n",
    "    return J"
   ]
  },
  {
   "cell_type": "code",
   "execution_count": 48,
   "metadata": {
    "collapsed": true
   },
   "outputs": [],
   "source": [
    "def grad_cost_fn(theta):\n",
    "    g=grad_cost_func(theta[:,np.newaxis], X, Y)\n",
    "    g.shape=(g.shape[0],)\n",
    "    return g  "
   ]
  },
  {
   "cell_type": "code",
   "execution_count": 49,
   "metadata": {
    "collapsed": true
   },
   "outputs": [
    {
     "name": "stdout",
     "output_type": "stream",
     "text": [
      "Optimization terminated successfully.\n",
      "         Current function value: 0.321905\n",
      "         Iterations: 197\n",
      "         Function evaluations: 198\n",
      "         Gradient evaluations: 198\n"
     ]
    }
   ],
   "source": [
    "# calculate optimal theta\n",
    "#theta0=np.zeros((n,))\n",
    "theta0 = np.zeros(shape=(X.shape[1], 1))\n",
    "# Type your code here\n",
    "Thopt,_,_,_,_,_,_, =  fmin_bfgs(NLL_cost_fn, theta0, grad_cost_fn, full_output=True)\n",
    "# print(\"The optimal value of theta that minimize cost function is: \",)\n",
    "# print(\"Final error = \",)"
   ]
  },
  {
   "cell_type": "markdown",
   "metadata": {},
   "source": [
    "Let's visualize the decision boundaries"
   ]
  },
  {
   "cell_type": "code",
   "execution_count": 50,
   "metadata": {
    "collapsed": true
   },
   "outputs": [
    {
     "data": {
      "text/plain": [
       "<matplotlib.legend.Legend at 0xc1a4d30>"
      ]
     },
     "execution_count": 50,
     "metadata": {},
     "output_type": "execute_result"
    },
    {
     "data": {
      "image/png": "[encoded data removed]",
      "text/plain": [
       "<Figure size 648x360 with 1 Axes>"
      ]
     },
     "metadata": {},
     "output_type": "display_data"
    }
   ],
   "source": [
    "# calculate the mesh grid for contour plot\n",
    "u1=np.linspace(-1,1.5,50)\n",
    "u2=np.linspace(-1,1.5,50)\n",
    "u1, u2 = np.meshgrid(u1, u2)\n",
    "\n",
    "X3=np.ones((*u1.shape,1))\n",
    "\n",
    "X3=Inter_Features(X3,u1[...,np.newaxis],u2[...,np.newaxis],degree,-1)\n",
    "\n",
    "Z=np.dot(X3,Thopt)\n",
    "\n",
    "# plot descision boundries\n",
    "plt.figure(\"Microchip decision boundries\",figsize=(9,5))\n",
    "fail=plt.scatter(x_1[Y==0], x_2[Y==0],  color='red',label='fail')\n",
    "success=plt.scatter(x_1[Y==1], x_2[Y==1],  color='green',marker='+',s=80,label='success')\n",
    "plt.xlabel('Test 1 score')\n",
    "plt.ylabel('Test 2 score')\n",
    "plt.title('Accepted/Rejected Microchip')\n",
    "ctr = plt.contour(u1, u2, Z,0,colors=\"blue\")\n",
    "extra = Rectangle((0, 0), 3, 4, fc=\"w\", fill=False, edgecolor=\"b\", linewidth=1)\n",
    "plt.legend([extra,fail,success], (\"decision boundries\",\"fail\",\"success\"),loc='best')"
   ]
  },
  {
   "cell_type": "markdown",
   "metadata": {},
   "source": [
    " **Question 14: ** \n",
    " - Change the value of the variable \"degree\" and interpret the modification on the decision boundaries."
   ]
  },
  {
   "cell_type": "markdown",
   "metadata": {},
   "source": [
    "### Part 2: Data analysis using \"Titanic\" dataset\n",
    "\n",
    "In this part, you will work on \"Titanic\" database example (from the website [http://www.data-mania.com/](http://www.data-mania.com/)). This database contains different information about passengers of the sunk \"RMS Titanic\" ocean liner. The goal is to build classifier that predict if a passenger has survived or not the catastrophe based on the passenger age, sex, ticket fare ...\n",
    "\n",
    "The \"Titanic database lack some information of some passengers. In the other hand, it has some unusable information for survivability prediction like ticket or cabin number. Hence, in the first part you are invited to process the training data by removing unnecessary information and filling the missing data.\n",
    "\n",
    "In the second part, you should train a logistic classifier using [**sklearn**](http://scikit-learn.org/stable/) library. Then, you can assess its accuracy with some [**metrics**](http://scikit-learn.org/stable/modules/classes.html#module-sklearn.metrics) of sklearn. "
   ]
  },
  {
   "cell_type": "code",
   "execution_count": 51,
   "metadata": {
    "collapsed": true
   },
   "outputs": [],
   "source": [
    "# import libraries\n",
    "import pandas as pd\n",
    "import seaborn as sns\n",
    "\n",
    "from sklearn.linear_model import LogisticRegression\n",
    "from sklearn import metrics "
   ]
  },
  {
   "cell_type": "markdown",
   "metadata": {},
   "source": [
    "### Load and process dataset\n",
    "In this session, we will use new library for data structure and plotting. The [**pandas**](http://pandas.pydata.org/pandas-docs/stable/) library offer the possibility to store data in [DataFrame](https://pandas.pydata.org/pandas-docs/stable/generated/pandas.DataFrame.html) structure which is similar to classic 2-D array but it has labels for rows and columns and we can use these labels to index a specific component in the dataframe.  \n",
    "The [**seaborn**](https://seaborn.pydata.org/index.html) library helps us to generate meaningful statistical graphics by extending functionalities in matplotlib library.\n",
    "\n",
    "**Question 1: **\n",
    "- Load data from the given \"url\" in \"titanic\" variable.   \n",
    "**Hint:** You can use [read_csv](https://pandas.pydata.org/pandas-docs/stable/generated/pandas.read_csv.html) function from pandas library.\n",
    "- Explore the dataset using [pandas.shape](https://pandas.pydata.org/pandas-docs/stable/reference/api/pandas.DataFrame.shape.html), [pandas.columns](https://pandas.pydata.org/pandas-docs/stable/reference/api/pandas.DataFrame.columns.html), [pandas.info](https://pandas.pydata.org/pandas-docs/stable/reference/api/pandas.DataFrame.info.html), [pandas.head](https://pandas.pydata.org/pandas-docs/stable/reference/api/pandas.DataFrame.head.html)."
   ]
  },
  {
   "cell_type": "code",
   "execution_count": 68,
   "metadata": {
    "collapsed": true
   },
   "outputs": [
    {
     "name": "stdout",
     "output_type": "stream",
     "text": [
      "The size of titanic dataset is:  (891, 12)\n",
      "Features name are:  Index(['PassengerId', 'Survived', 'Pclass', 'Name', 'Sex', 'Age', 'SibSp',\n",
      "       'Parch', 'Ticket', 'Fare', 'Cabin', 'Embarked'],\n",
      "      dtype='object')\n",
      "<class 'pandas.core.frame.DataFrame'>\n",
      "RangeIndex: 891 entries, 0 to 890\n",
      "Data columns (total 12 columns):\n",
      "PassengerId    891 non-null int64\n",
      "Survived       891 non-null int64\n",
      "Pclass         891 non-null int64\n",
      "Name           891 non-null object\n",
      "Sex            891 non-null object\n",
      "Age            714 non-null float64\n",
      "SibSp          891 non-null int64\n",
      "Parch          891 non-null int64\n",
      "Ticket         891 non-null object\n",
      "Fare           891 non-null float64\n",
      "Cabin          204 non-null object\n",
      "Embarked       889 non-null object\n",
      "dtypes: float64(2), int64(5), object(5)\n",
      "memory usage: 83.6+ KB\n",
      "\n",
      "Some information about the dataset: None\n",
      "\n",
      "How dataset looks like: <bound method NDFrame.head of      PassengerId  Survived  Pclass  \\\n",
      "0              1         0       3   \n",
      "1              2         1       1   \n",
      "2              3         1       3   \n",
      "3              4         1       1   \n",
      "4              5         0       3   \n",
      "5              6         0       3   \n",
      "6              7         0       1   \n",
      "7              8         0       3   \n",
      "8              9         1       3   \n",
      "9             10         1       2   \n",
      "10            11         1       3   \n",
      "11            12         1       1   \n",
      "12            13         0       3   \n",
      "13            14         0       3   \n",
      "14            15         0       3   \n",
      "15            16         1       2   \n",
      "16            17         0       3   \n",
      "17            18         1       2   \n",
      "18            19         0       3   \n",
      "19            20         1       3   \n",
      "20            21         0       2   \n",
      "21            22         1       2   \n",
      "22            23         1       3   \n",
      "23            24         1       1   \n",
      "24            25         0       3   \n",
      "25            26         1       3   \n",
      "26            27         0       3   \n",
      "27            28         0       1   \n",
      "28            29         1       3   \n",
      "29            30         0       3   \n",
      "..           ...       ...     ...   \n",
      "861          862         0       2   \n",
      "862          863         1       1   \n",
      "863          864         0       3   \n",
      "864          865         0       2   \n",
      "865          866         1       2   \n",
      "866          867         1       2   \n",
      "867          868         0       1   \n",
      "868          869         0       3   \n",
      "869          870         1       3   \n",
      "870          871         0       3   \n",
      "871          872         1       1   \n",
      "872          873         0       1   \n",
      "873          874         0       3   \n",
      "874          875         1       2   \n",
      "875          876         1       3   \n",
      "876          877         0       3   \n",
      "877          878         0       3   \n",
      "878          879         0       3   \n",
      "879          880         1       1   \n",
      "880          881         1       2   \n",
      "881          882         0       3   \n",
      "882          883         0       3   \n",
      "883          884         0       2   \n",
      "884          885         0       3   \n",
      "885          886         0       3   \n",
      "886          887         0       2   \n",
      "887          888         1       1   \n",
      "888          889         0       3   \n",
      "889          890         1       1   \n",
      "890          891         0       3   \n",
      "\n",
      "                                                  Name     Sex   Age  SibSp  \\\n",
      "0                              Braund, Mr. Owen Harris    male  22.0      1   \n",
      "1    Cumings, Mrs. John Bradley (Florence Briggs Th...  female  38.0      1   \n",
      "2                               Heikkinen, Miss. Laina  female  26.0      0   \n",
      "3         Futrelle, Mrs. Jacques Heath (Lily May Peel)  female  35.0      1   \n",
      "4                             Allen, Mr. William Henry    male  35.0      0   \n",
      "5                                     Moran, Mr. James    male   NaN      0   \n",
      "6                              McCarthy, Mr. Timothy J    male  54.0      0   \n",
      "7                       Palsson, Master. Gosta Leonard    male   2.0      3   \n",
      "8    Johnson, Mrs. Oscar W (Elisabeth Vilhelmina Berg)  female  27.0      0   \n",
      "9                  Nasser, Mrs. Nicholas (Adele Achem)  female  14.0      1   \n",
      "10                     Sandstrom, Miss. Marguerite Rut  female   4.0      1   \n",
      "11                            Bonnell, Miss. Elizabeth  female  58.0      0   \n",
      "12                      Saundercock, Mr. William Henry    male  20.0      0   \n",
      "13                         Andersson, Mr. Anders Johan    male  39.0      1   \n",
      "14                Vestrom, Miss. Hulda Amanda Adolfina  female  14.0      0   \n",
      "15                    Hewlett, Mrs. (Mary D Kingcome)   female  55.0      0   \n",
      "16                                Rice, Master. Eugene    male   2.0      4   \n",
      "17                        Williams, Mr. Charles Eugene    male   NaN      0   \n",
      "18   Vander Planke, Mrs. Julius (Emelia Maria Vande...  female  31.0      1   \n",
      "19                             Masselmani, Mrs. Fatima  female   NaN      0   \n",
      "20                                Fynney, Mr. Joseph J    male  35.0      0   \n",
      "21                               Beesley, Mr. Lawrence    male  34.0      0   \n",
      "22                         McGowan, Miss. Anna \"Annie\"  female  15.0      0   \n",
      "23                        Sloper, Mr. William Thompson    male  28.0      0   \n",
      "24                       Palsson, Miss. Torborg Danira  female   8.0      3   \n",
      "25   Asplund, Mrs. Carl Oscar (Selma Augusta Emilia...  female  38.0      1   \n",
      "26                             Emir, Mr. Farred Chehab    male   NaN      0   \n",
      "27                      Fortune, Mr. Charles Alexander    male  19.0      3   \n",
      "28                       O'Dwyer, Miss. Ellen \"Nellie\"  female   NaN      0   \n",
      "29                                 Todoroff, Mr. Lalio    male   NaN      0   \n",
      "..                                                 ...     ...   ...    ...   \n",
      "861                        Giles, Mr. Frederick Edward    male  21.0      1   \n",
      "862  Swift, Mrs. Frederick Joel (Margaret Welles Ba...  female  48.0      0   \n",
      "863                  Sage, Miss. Dorothy Edith \"Dolly\"  female   NaN      8   \n",
      "864                             Gill, Mr. John William    male  24.0      0   \n",
      "865                           Bystrom, Mrs. (Karolina)  female  42.0      0   \n",
      "866                       Duran y More, Miss. Asuncion  female  27.0      1   \n",
      "867               Roebling, Mr. Washington Augustus II    male  31.0      0   \n",
      "868                        van Melkebeke, Mr. Philemon    male   NaN      0   \n",
      "869                    Johnson, Master. Harold Theodor    male   4.0      1   \n",
      "870                                  Balkic, Mr. Cerin    male  26.0      0   \n",
      "871   Beckwith, Mrs. Richard Leonard (Sallie Monypeny)  female  47.0      1   \n",
      "872                           Carlsson, Mr. Frans Olof    male  33.0      0   \n",
      "873                        Vander Cruyssen, Mr. Victor    male  47.0      0   \n",
      "874              Abelson, Mrs. Samuel (Hannah Wizosky)  female  28.0      1   \n",
      "875                   Najib, Miss. Adele Kiamie \"Jane\"  female  15.0      0   \n",
      "876                      Gustafsson, Mr. Alfred Ossian    male  20.0      0   \n",
      "877                               Petroff, Mr. Nedelio    male  19.0      0   \n",
      "878                                 Laleff, Mr. Kristo    male   NaN      0   \n",
      "879      Potter, Mrs. Thomas Jr (Lily Alexenia Wilson)  female  56.0      0   \n",
      "880       Shelley, Mrs. William (Imanita Parrish Hall)  female  25.0      0   \n",
      "881                                 Markun, Mr. Johann    male  33.0      0   \n",
      "882                       Dahlberg, Miss. Gerda Ulrika  female  22.0      0   \n",
      "883                      Banfield, Mr. Frederick James    male  28.0      0   \n",
      "884                             Sutehall, Mr. Henry Jr    male  25.0      0   \n",
      "885               Rice, Mrs. William (Margaret Norton)  female  39.0      0   \n",
      "886                              Montvila, Rev. Juozas    male  27.0      0   \n",
      "887                       Graham, Miss. Margaret Edith  female  19.0      0   \n",
      "888           Johnston, Miss. Catherine Helen \"Carrie\"  female   NaN      1   \n",
      "889                              Behr, Mr. Karl Howell    male  26.0      0   \n",
      "890                                Dooley, Mr. Patrick    male  32.0      0   \n",
      "\n",
      "     Parch            Ticket      Fare        Cabin Embarked  \n",
      "0        0         A/5 21171    7.2500          NaN        S  \n",
      "1        0          PC 17599   71.2833          C85        C  \n",
      "2        0  STON/O2. 3101282    7.9250          NaN        S  \n",
      "3        0            113803   53.1000         C123        S  \n",
      "4        0            373450    8.0500          NaN        S  \n",
      "5        0            330877    8.4583          NaN        Q  \n",
      "6        0             17463   51.8625          E46        S  \n",
      "7        1            349909   21.0750          NaN        S  \n",
      "8        2            347742   11.1333          NaN        S  \n",
      "9        0            237736   30.0708          NaN        C  \n",
      "10       1           PP 9549   16.7000           G6        S  \n",
      "11       0            113783   26.5500         C103        S  \n",
      "12       0         A/5. 2151    8.0500          NaN        S  \n",
      "13       5            347082   31.2750          NaN        S  \n",
      "14       0            350406    7.8542          NaN        S  \n",
      "15       0            248706   16.0000          NaN        S  \n",
      "16       1            382652   29.1250          NaN        Q  \n",
      "17       0            244373   13.0000          NaN        S  \n",
      "18       0            345763   18.0000          NaN        S  \n",
      "19       0              2649    7.2250          NaN        C  \n",
      "20       0            239865   26.0000          NaN        S  \n",
      "21       0            248698   13.0000          D56        S  \n",
      "22       0            330923    8.0292          NaN        Q  \n",
      "23       0            113788   35.5000           A6        S  \n",
      "24       1            349909   21.0750          NaN        S  \n",
      "25       5            347077   31.3875          NaN        S  \n",
      "26       0              2631    7.2250          NaN        C  \n",
      "27       2             19950  263.0000  C23 C25 C27        S  \n",
      "28       0            330959    7.8792          NaN        Q  \n",
      "29       0            349216    7.8958          NaN        S  \n",
      "..     ...               ...       ...          ...      ...  \n",
      "861      0             28134   11.5000          NaN        S  \n",
      "862      0             17466   25.9292          D17        S  \n",
      "863      2          CA. 2343   69.5500          NaN        S  \n",
      "864      0            233866   13.0000          NaN        S  \n",
      "865      0            236852   13.0000          NaN        S  \n",
      "866      0     SC/PARIS 2149   13.8583          NaN        C  \n",
      "867      0          PC 17590   50.4958          A24        S  \n",
      "868      0            345777    9.5000          NaN        S  \n",
      "869      1            347742   11.1333          NaN        S  \n",
      "870      0            349248    7.8958          NaN        S  \n",
      "871      1             11751   52.5542          D35        S  \n",
      "872      0               695    5.0000  B51 B53 B55        S  \n",
      "873      0            345765    9.0000          NaN        S  \n",
      "874      0         P/PP 3381   24.0000          NaN        C  \n",
      "875      0              2667    7.2250          NaN        C  \n",
      "876      0              7534    9.8458          NaN        S  \n",
      "877      0            349212    7.8958          NaN        S  \n",
      "878      0            349217    7.8958          NaN        S  \n",
      "879      1             11767   83.1583          C50        C  \n",
      "880      1            230433   26.0000          NaN        S  \n",
      "881      0            349257    7.8958          NaN        S  \n",
      "882      0              7552   10.5167          NaN        S  \n",
      "883      0  C.A./SOTON 34068   10.5000          NaN        S  \n",
      "884      0   SOTON/OQ 392076    7.0500          NaN        S  \n",
      "885      5            382652   29.1250          NaN        Q  \n",
      "886      0            211536   13.0000          NaN        S  \n",
      "887      0            112053   30.0000          B42        S  \n",
      "888      2        W./C. 6607   23.4500          NaN        S  \n",
      "889      0            111369   30.0000         C148        C  \n",
      "890      0            370376    7.7500          NaN        Q  \n",
      "\n",
      "[891 rows x 12 columns]>\n"
     ]
    }
   ],
   "source": [
    "# load titanic dataset using the url below\n",
    "url = 'https://raw.githubusercontent.com/BigDataGal/Python-for-Data-Science/master/titanic-train.csv'\n",
    "# Type your code here\n",
    "#s=requests.get(url).content\n",
    "titanic = pd.read_csv(url)\n",
    "\n",
    "\n",
    "# explore data\n",
    "# Type your code here\n",
    "print(\"The size of titanic dataset is: \",titanic.shape)\n",
    "print(\"Features name are: \",titanic.columns)\n",
    "\n",
    "print(\"\\nSome information about the dataset:\",titanic.info(verbose=True))\n",
    "print(\"\\nHow dataset looks like:\",titanic.head)"
   ]
  },
  {
   "cell_type": "markdown",
   "metadata": {},
   "source": [
    "**Question 2: **\n",
    "- What is the number of samples (passengers) in each class (y=1:survived, y=0:did not survive).  \n",
    "**Hint:** You can index dataframe with boolean condition on \"Survived\" column. You can also use \"[where](https://pandas.pydata.org/pandas-docs/stable/generated/pandas.DataFrame.where.html)\" function from pandas library."
   ]
  },
  {
   "cell_type": "code",
   "execution_count": 69,
   "metadata": {
    "collapsed": true
   },
   "outputs": [
    {
     "name": "stdout",
     "output_type": "stream",
     "text": [
      "The number of survived passenger in titanic dataset is:       PassengerId  Survived  Pclass  \\\n",
      "0            NaN       NaN     NaN   \n",
      "1            2.0       1.0     1.0   \n",
      "2            3.0       1.0     3.0   \n",
      "3            4.0       1.0     1.0   \n",
      "4            NaN       NaN     NaN   \n",
      "5            NaN       NaN     NaN   \n",
      "6            NaN       NaN     NaN   \n",
      "7            NaN       NaN     NaN   \n",
      "8            9.0       1.0     3.0   \n",
      "9           10.0       1.0     2.0   \n",
      "10          11.0       1.0     3.0   \n",
      "11          12.0       1.0     1.0   \n",
      "12           NaN       NaN     NaN   \n",
      "13           NaN       NaN     NaN   \n",
      "14           NaN       NaN     NaN   \n",
      "15          16.0       1.0     2.0   \n",
      "16           NaN       NaN     NaN   \n",
      "17          18.0       1.0     2.0   \n",
      "18           NaN       NaN     NaN   \n",
      "19          20.0       1.0     3.0   \n",
      "20           NaN       NaN     NaN   \n",
      "21          22.0       1.0     2.0   \n",
      "22          23.0       1.0     3.0   \n",
      "23          24.0       1.0     1.0   \n",
      "24           NaN       NaN     NaN   \n",
      "25          26.0       1.0     3.0   \n",
      "26           NaN       NaN     NaN   \n",
      "27           NaN       NaN     NaN   \n",
      "28          29.0       1.0     3.0   \n",
      "29           NaN       NaN     NaN   \n",
      "..           ...       ...     ...   \n",
      "861          NaN       NaN     NaN   \n",
      "862        863.0       1.0     1.0   \n",
      "863          NaN       NaN     NaN   \n",
      "864          NaN       NaN     NaN   \n",
      "865        866.0       1.0     2.0   \n",
      "866        867.0       1.0     2.0   \n",
      "867          NaN       NaN     NaN   \n",
      "868          NaN       NaN     NaN   \n",
      "869        870.0       1.0     3.0   \n",
      "870          NaN       NaN     NaN   \n",
      "871        872.0       1.0     1.0   \n",
      "872          NaN       NaN     NaN   \n",
      "873          NaN       NaN     NaN   \n",
      "874        875.0       1.0     2.0   \n",
      "875        876.0       1.0     3.0   \n",
      "876          NaN       NaN     NaN   \n",
      "877          NaN       NaN     NaN   \n",
      "878          NaN       NaN     NaN   \n",
      "879        880.0       1.0     1.0   \n",
      "880        881.0       1.0     2.0   \n",
      "881          NaN       NaN     NaN   \n",
      "882          NaN       NaN     NaN   \n",
      "883          NaN       NaN     NaN   \n",
      "884          NaN       NaN     NaN   \n",
      "885          NaN       NaN     NaN   \n",
      "886          NaN       NaN     NaN   \n",
      "887        888.0       1.0     1.0   \n",
      "888          NaN       NaN     NaN   \n",
      "889        890.0       1.0     1.0   \n",
      "890          NaN       NaN     NaN   \n",
      "\n",
      "                                                  Name     Sex   Age  SibSp  \\\n",
      "0                                                  NaN     NaN   NaN    NaN   \n",
      "1    Cumings, Mrs. John Bradley (Florence Briggs Th...  female  38.0    1.0   \n",
      "2                               Heikkinen, Miss. Laina  female  26.0    0.0   \n",
      "3         Futrelle, Mrs. Jacques Heath (Lily May Peel)  female  35.0    1.0   \n",
      "4                                                  NaN     NaN   NaN    NaN   \n",
      "5                                                  NaN     NaN   NaN    NaN   \n",
      "6                                                  NaN     NaN   NaN    NaN   \n",
      "7                                                  NaN     NaN   NaN    NaN   \n",
      "8    Johnson, Mrs. Oscar W (Elisabeth Vilhelmina Berg)  female  27.0    0.0   \n",
      "9                  Nasser, Mrs. Nicholas (Adele Achem)  female  14.0    1.0   \n",
      "10                     Sandstrom, Miss. Marguerite Rut  female   4.0    1.0   \n",
      "11                            Bonnell, Miss. Elizabeth  female  58.0    0.0   \n",
      "12                                                 NaN     NaN   NaN    NaN   \n",
      "13                                                 NaN     NaN   NaN    NaN   \n",
      "14                                                 NaN     NaN   NaN    NaN   \n",
      "15                    Hewlett, Mrs. (Mary D Kingcome)   female  55.0    0.0   \n",
      "16                                                 NaN     NaN   NaN    NaN   \n",
      "17                        Williams, Mr. Charles Eugene    male   NaN    0.0   \n",
      "18                                                 NaN     NaN   NaN    NaN   \n",
      "19                             Masselmani, Mrs. Fatima  female   NaN    0.0   \n",
      "20                                                 NaN     NaN   NaN    NaN   \n",
      "21                               Beesley, Mr. Lawrence    male  34.0    0.0   \n",
      "22                         McGowan, Miss. Anna \"Annie\"  female  15.0    0.0   \n",
      "23                        Sloper, Mr. William Thompson    male  28.0    0.0   \n",
      "24                                                 NaN     NaN   NaN    NaN   \n",
      "25   Asplund, Mrs. Carl Oscar (Selma Augusta Emilia...  female  38.0    1.0   \n",
      "26                                                 NaN     NaN   NaN    NaN   \n",
      "27                                                 NaN     NaN   NaN    NaN   \n",
      "28                       O'Dwyer, Miss. Ellen \"Nellie\"  female   NaN    0.0   \n",
      "29                                                 NaN     NaN   NaN    NaN   \n",
      "..                                                 ...     ...   ...    ...   \n",
      "861                                                NaN     NaN   NaN    NaN   \n",
      "862  Swift, Mrs. Frederick Joel (Margaret Welles Ba...  female  48.0    0.0   \n",
      "863                                                NaN     NaN   NaN    NaN   \n",
      "864                                                NaN     NaN   NaN    NaN   \n",
      "865                           Bystrom, Mrs. (Karolina)  female  42.0    0.0   \n",
      "866                       Duran y More, Miss. Asuncion  female  27.0    1.0   \n",
      "867                                                NaN     NaN   NaN    NaN   \n",
      "868                                                NaN     NaN   NaN    NaN   \n",
      "869                    Johnson, Master. Harold Theodor    male   4.0    1.0   \n",
      "870                                                NaN     NaN   NaN    NaN   \n",
      "871   Beckwith, Mrs. Richard Leonard (Sallie Monypeny)  female  47.0    1.0   \n",
      "872                                                NaN     NaN   NaN    NaN   \n",
      "873                                                NaN     NaN   NaN    NaN   \n",
      "874              Abelson, Mrs. Samuel (Hannah Wizosky)  female  28.0    1.0   \n",
      "875                   Najib, Miss. Adele Kiamie \"Jane\"  female  15.0    0.0   \n",
      "876                                                NaN     NaN   NaN    NaN   \n",
      "877                                                NaN     NaN   NaN    NaN   \n",
      "878                                                NaN     NaN   NaN    NaN   \n",
      "879      Potter, Mrs. Thomas Jr (Lily Alexenia Wilson)  female  56.0    0.0   \n",
      "880       Shelley, Mrs. William (Imanita Parrish Hall)  female  25.0    0.0   \n",
      "881                                                NaN     NaN   NaN    NaN   \n",
      "882                                                NaN     NaN   NaN    NaN   \n",
      "883                                                NaN     NaN   NaN    NaN   \n",
      "884                                                NaN     NaN   NaN    NaN   \n",
      "885                                                NaN     NaN   NaN    NaN   \n",
      "886                                                NaN     NaN   NaN    NaN   \n",
      "887                       Graham, Miss. Margaret Edith  female  19.0    0.0   \n",
      "888                                                NaN     NaN   NaN    NaN   \n",
      "889                              Behr, Mr. Karl Howell    male  26.0    0.0   \n",
      "890                                                NaN     NaN   NaN    NaN   \n",
      "\n",
      "     Parch            Ticket     Fare Cabin Embarked  \n",
      "0      NaN               NaN      NaN   NaN      NaN  \n",
      "1      0.0          PC 17599  71.2833   C85        C  \n",
      "2      0.0  STON/O2. 3101282   7.9250   NaN        S  \n",
      "3      0.0            113803  53.1000  C123        S  \n",
      "4      NaN               NaN      NaN   NaN      NaN  \n",
      "5      NaN               NaN      NaN   NaN      NaN  \n",
      "6      NaN               NaN      NaN   NaN      NaN  \n",
      "7      NaN               NaN      NaN   NaN      NaN  \n",
      "8      2.0            347742  11.1333   NaN        S  \n",
      "9      0.0            237736  30.0708   NaN        C  \n",
      "10     1.0           PP 9549  16.7000    G6        S  \n",
      "11     0.0            113783  26.5500  C103        S  \n",
      "12     NaN               NaN      NaN   NaN      NaN  \n",
      "13     NaN               NaN      NaN   NaN      NaN  \n",
      "14     NaN               NaN      NaN   NaN      NaN  \n",
      "15     0.0            248706  16.0000   NaN        S  \n",
      "16     NaN               NaN      NaN   NaN      NaN  \n",
      "17     0.0            244373  13.0000   NaN        S  \n",
      "18     NaN               NaN      NaN   NaN      NaN  \n",
      "19     0.0              2649   7.2250   NaN        C  \n",
      "20     NaN               NaN      NaN   NaN      NaN  \n",
      "21     0.0            248698  13.0000   D56        S  \n",
      "22     0.0            330923   8.0292   NaN        Q  \n",
      "23     0.0            113788  35.5000    A6        S  \n",
      "24     NaN               NaN      NaN   NaN      NaN  \n",
      "25     5.0            347077  31.3875   NaN        S  \n",
      "26     NaN               NaN      NaN   NaN      NaN  \n",
      "27     NaN               NaN      NaN   NaN      NaN  \n",
      "28     0.0            330959   7.8792   NaN        Q  \n",
      "29     NaN               NaN      NaN   NaN      NaN  \n",
      "..     ...               ...      ...   ...      ...  \n",
      "861    NaN               NaN      NaN   NaN      NaN  \n",
      "862    0.0             17466  25.9292   D17        S  \n",
      "863    NaN               NaN      NaN   NaN      NaN  \n",
      "864    NaN               NaN      NaN   NaN      NaN  \n",
      "865    0.0            236852  13.0000   NaN        S  \n",
      "866    0.0     SC/PARIS 2149  13.8583   NaN        C  \n",
      "867    NaN               NaN      NaN   NaN      NaN  \n",
      "868    NaN               NaN      NaN   NaN      NaN  \n",
      "869    1.0            347742  11.1333   NaN        S  \n",
      "870    NaN               NaN      NaN   NaN      NaN  \n",
      "871    1.0             11751  52.5542   D35        S  \n",
      "872    NaN               NaN      NaN   NaN      NaN  \n",
      "873    NaN               NaN      NaN   NaN      NaN  \n",
      "874    0.0         P/PP 3381  24.0000   NaN        C  \n",
      "875    0.0              2667   7.2250   NaN        C  \n",
      "876    NaN               NaN      NaN   NaN      NaN  \n",
      "877    NaN               NaN      NaN   NaN      NaN  \n",
      "878    NaN               NaN      NaN   NaN      NaN  \n",
      "879    1.0             11767  83.1583   C50        C  \n",
      "880    1.0            230433  26.0000   NaN        S  \n",
      "881    NaN               NaN      NaN   NaN      NaN  \n",
      "882    NaN               NaN      NaN   NaN      NaN  \n",
      "883    NaN               NaN      NaN   NaN      NaN  \n",
      "884    NaN               NaN      NaN   NaN      NaN  \n",
      "885    NaN               NaN      NaN   NaN      NaN  \n",
      "886    NaN               NaN      NaN   NaN      NaN  \n",
      "887    0.0            112053  30.0000   B42        S  \n",
      "888    NaN               NaN      NaN   NaN      NaN  \n",
      "889    0.0            111369  30.0000  C148        C  \n",
      "890    NaN               NaN      NaN   NaN      NaN  \n",
      "\n",
      "[891 rows x 12 columns]\n",
      "The number of died passenger in titanic dataset is:       PassengerId  Survived  Pclass  \\\n",
      "0            1.0       0.0     3.0   \n",
      "1            NaN       NaN     NaN   \n",
      "2            NaN       NaN     NaN   \n",
      "3            NaN       NaN     NaN   \n",
      "4            5.0       0.0     3.0   \n",
      "5            6.0       0.0     3.0   \n",
      "6            7.0       0.0     1.0   \n",
      "7            8.0       0.0     3.0   \n",
      "8            NaN       NaN     NaN   \n",
      "9            NaN       NaN     NaN   \n",
      "10           NaN       NaN     NaN   \n",
      "11           NaN       NaN     NaN   \n",
      "12          13.0       0.0     3.0   \n",
      "13          14.0       0.0     3.0   \n",
      "14          15.0       0.0     3.0   \n",
      "15           NaN       NaN     NaN   \n",
      "16          17.0       0.0     3.0   \n",
      "17           NaN       NaN     NaN   \n",
      "18          19.0       0.0     3.0   \n",
      "19           NaN       NaN     NaN   \n",
      "20          21.0       0.0     2.0   \n",
      "21           NaN       NaN     NaN   \n",
      "22           NaN       NaN     NaN   \n",
      "23           NaN       NaN     NaN   \n",
      "24          25.0       0.0     3.0   \n",
      "25           NaN       NaN     NaN   \n",
      "26          27.0       0.0     3.0   \n",
      "27          28.0       0.0     1.0   \n",
      "28           NaN       NaN     NaN   \n",
      "29          30.0       0.0     3.0   \n",
      "..           ...       ...     ...   \n",
      "861        862.0       0.0     2.0   \n",
      "862          NaN       NaN     NaN   \n",
      "863        864.0       0.0     3.0   \n",
      "864        865.0       0.0     2.0   \n",
      "865          NaN       NaN     NaN   \n",
      "866          NaN       NaN     NaN   \n",
      "867        868.0       0.0     1.0   \n",
      "868        869.0       0.0     3.0   \n",
      "869          NaN       NaN     NaN   \n",
      "870        871.0       0.0     3.0   \n",
      "871          NaN       NaN     NaN   \n",
      "872        873.0       0.0     1.0   \n",
      "873        874.0       0.0     3.0   \n",
      "874          NaN       NaN     NaN   \n",
      "875          NaN       NaN     NaN   \n",
      "876        877.0       0.0     3.0   \n",
      "877        878.0       0.0     3.0   \n",
      "878        879.0       0.0     3.0   \n",
      "879          NaN       NaN     NaN   \n",
      "880          NaN       NaN     NaN   \n",
      "881        882.0       0.0     3.0   \n",
      "882        883.0       0.0     3.0   \n",
      "883        884.0       0.0     2.0   \n",
      "884        885.0       0.0     3.0   \n",
      "885        886.0       0.0     3.0   \n",
      "886        887.0       0.0     2.0   \n",
      "887          NaN       NaN     NaN   \n",
      "888        889.0       0.0     3.0   \n",
      "889          NaN       NaN     NaN   \n",
      "890        891.0       0.0     3.0   \n",
      "\n",
      "                                                  Name     Sex   Age  SibSp  \\\n",
      "0                              Braund, Mr. Owen Harris    male  22.0    1.0   \n",
      "1                                                  NaN     NaN   NaN    NaN   \n",
      "2                                                  NaN     NaN   NaN    NaN   \n",
      "3                                                  NaN     NaN   NaN    NaN   \n",
      "4                             Allen, Mr. William Henry    male  35.0    0.0   \n",
      "5                                     Moran, Mr. James    male   NaN    0.0   \n",
      "6                              McCarthy, Mr. Timothy J    male  54.0    0.0   \n",
      "7                       Palsson, Master. Gosta Leonard    male   2.0    3.0   \n",
      "8                                                  NaN     NaN   NaN    NaN   \n",
      "9                                                  NaN     NaN   NaN    NaN   \n",
      "10                                                 NaN     NaN   NaN    NaN   \n",
      "11                                                 NaN     NaN   NaN    NaN   \n",
      "12                      Saundercock, Mr. William Henry    male  20.0    0.0   \n",
      "13                         Andersson, Mr. Anders Johan    male  39.0    1.0   \n",
      "14                Vestrom, Miss. Hulda Amanda Adolfina  female  14.0    0.0   \n",
      "15                                                 NaN     NaN   NaN    NaN   \n",
      "16                                Rice, Master. Eugene    male   2.0    4.0   \n",
      "17                                                 NaN     NaN   NaN    NaN   \n",
      "18   Vander Planke, Mrs. Julius (Emelia Maria Vande...  female  31.0    1.0   \n",
      "19                                                 NaN     NaN   NaN    NaN   \n",
      "20                                Fynney, Mr. Joseph J    male  35.0    0.0   \n",
      "21                                                 NaN     NaN   NaN    NaN   \n",
      "22                                                 NaN     NaN   NaN    NaN   \n",
      "23                                                 NaN     NaN   NaN    NaN   \n",
      "24                       Palsson, Miss. Torborg Danira  female   8.0    3.0   \n",
      "25                                                 NaN     NaN   NaN    NaN   \n",
      "26                             Emir, Mr. Farred Chehab    male   NaN    0.0   \n",
      "27                      Fortune, Mr. Charles Alexander    male  19.0    3.0   \n",
      "28                                                 NaN     NaN   NaN    NaN   \n",
      "29                                 Todoroff, Mr. Lalio    male   NaN    0.0   \n",
      "..                                                 ...     ...   ...    ...   \n",
      "861                        Giles, Mr. Frederick Edward    male  21.0    1.0   \n",
      "862                                                NaN     NaN   NaN    NaN   \n",
      "863                  Sage, Miss. Dorothy Edith \"Dolly\"  female   NaN    8.0   \n",
      "864                             Gill, Mr. John William    male  24.0    0.0   \n",
      "865                                                NaN     NaN   NaN    NaN   \n",
      "866                                                NaN     NaN   NaN    NaN   \n",
      "867               Roebling, Mr. Washington Augustus II    male  31.0    0.0   \n",
      "868                        van Melkebeke, Mr. Philemon    male   NaN    0.0   \n",
      "869                                                NaN     NaN   NaN    NaN   \n",
      "870                                  Balkic, Mr. Cerin    male  26.0    0.0   \n",
      "871                                                NaN     NaN   NaN    NaN   \n",
      "872                           Carlsson, Mr. Frans Olof    male  33.0    0.0   \n",
      "873                        Vander Cruyssen, Mr. Victor    male  47.0    0.0   \n",
      "874                                                NaN     NaN   NaN    NaN   \n",
      "875                                                NaN     NaN   NaN    NaN   \n",
      "876                      Gustafsson, Mr. Alfred Ossian    male  20.0    0.0   \n",
      "877                               Petroff, Mr. Nedelio    male  19.0    0.0   \n",
      "878                                 Laleff, Mr. Kristo    male   NaN    0.0   \n",
      "879                                                NaN     NaN   NaN    NaN   \n",
      "880                                                NaN     NaN   NaN    NaN   \n",
      "881                                 Markun, Mr. Johann    male  33.0    0.0   \n",
      "882                       Dahlberg, Miss. Gerda Ulrika  female  22.0    0.0   \n",
      "883                      Banfield, Mr. Frederick James    male  28.0    0.0   \n",
      "884                             Sutehall, Mr. Henry Jr    male  25.0    0.0   \n",
      "885               Rice, Mrs. William (Margaret Norton)  female  39.0    0.0   \n",
      "886                              Montvila, Rev. Juozas    male  27.0    0.0   \n",
      "887                                                NaN     NaN   NaN    NaN   \n",
      "888           Johnston, Miss. Catherine Helen \"Carrie\"  female   NaN    1.0   \n",
      "889                                                NaN     NaN   NaN    NaN   \n",
      "890                                Dooley, Mr. Patrick    male  32.0    0.0   \n",
      "\n",
      "     Parch            Ticket      Fare        Cabin Embarked  \n",
      "0      0.0         A/5 21171    7.2500          NaN        S  \n",
      "1      NaN               NaN       NaN          NaN      NaN  \n",
      "2      NaN               NaN       NaN          NaN      NaN  \n",
      "3      NaN               NaN       NaN          NaN      NaN  \n",
      "4      0.0            373450    8.0500          NaN        S  \n",
      "5      0.0            330877    8.4583          NaN        Q  \n",
      "6      0.0             17463   51.8625          E46        S  \n",
      "7      1.0            349909   21.0750          NaN        S  \n",
      "8      NaN               NaN       NaN          NaN      NaN  \n",
      "9      NaN               NaN       NaN          NaN      NaN  \n",
      "10     NaN               NaN       NaN          NaN      NaN  \n",
      "11     NaN               NaN       NaN          NaN      NaN  \n",
      "12     0.0         A/5. 2151    8.0500          NaN        S  \n",
      "13     5.0            347082   31.2750          NaN        S  \n",
      "14     0.0            350406    7.8542          NaN        S  \n",
      "15     NaN               NaN       NaN          NaN      NaN  \n",
      "16     1.0            382652   29.1250          NaN        Q  \n",
      "17     NaN               NaN       NaN          NaN      NaN  \n",
      "18     0.0            345763   18.0000          NaN        S  \n",
      "19     NaN               NaN       NaN          NaN      NaN  \n",
      "20     0.0            239865   26.0000          NaN        S  \n",
      "21     NaN               NaN       NaN          NaN      NaN  \n",
      "22     NaN               NaN       NaN          NaN      NaN  \n",
      "23     NaN               NaN       NaN          NaN      NaN  \n",
      "24     1.0            349909   21.0750          NaN        S  \n",
      "25     NaN               NaN       NaN          NaN      NaN  \n",
      "26     0.0              2631    7.2250          NaN        C  \n",
      "27     2.0             19950  263.0000  C23 C25 C27        S  \n",
      "28     NaN               NaN       NaN          NaN      NaN  \n",
      "29     0.0            349216    7.8958          NaN        S  \n",
      "..     ...               ...       ...          ...      ...  \n",
      "861    0.0             28134   11.5000          NaN        S  \n",
      "862    NaN               NaN       NaN          NaN      NaN  \n",
      "863    2.0          CA. 2343   69.5500          NaN        S  \n",
      "864    0.0            233866   13.0000          NaN        S  \n",
      "865    NaN               NaN       NaN          NaN      NaN  \n",
      "866    NaN               NaN       NaN          NaN      NaN  \n",
      "867    0.0          PC 17590   50.4958          A24        S  \n",
      "868    0.0            345777    9.5000          NaN        S  \n",
      "869    NaN               NaN       NaN          NaN      NaN  \n",
      "870    0.0            349248    7.8958          NaN        S  \n",
      "871    NaN               NaN       NaN          NaN      NaN  \n",
      "872    0.0               695    5.0000  B51 B53 B55        S  \n",
      "873    0.0            345765    9.0000          NaN        S  \n",
      "874    NaN               NaN       NaN          NaN      NaN  \n",
      "875    NaN               NaN       NaN          NaN      NaN  \n",
      "876    0.0              7534    9.8458          NaN        S  \n",
      "877    0.0            349212    7.8958          NaN        S  \n",
      "878    0.0            349217    7.8958          NaN        S  \n",
      "879    NaN               NaN       NaN          NaN      NaN  \n",
      "880    NaN               NaN       NaN          NaN      NaN  \n",
      "881    0.0            349257    7.8958          NaN        S  \n",
      "882    0.0              7552   10.5167          NaN        S  \n",
      "883    0.0  C.A./SOTON 34068   10.5000          NaN        S  \n",
      "884    0.0   SOTON/OQ 392076    7.0500          NaN        S  \n",
      "885    5.0            382652   29.1250          NaN        Q  \n",
      "886    0.0            211536   13.0000          NaN        S  \n",
      "887    NaN               NaN       NaN          NaN      NaN  \n",
      "888    2.0        W./C. 6607   23.4500          NaN        S  \n",
      "889    NaN               NaN       NaN          NaN      NaN  \n",
      "890    0.0            370376    7.7500          NaN        Q  \n",
      "\n",
      "[891 rows x 12 columns]\n"
     ]
    }
   ],
   "source": [
    "# determine the number of survived/not survived to understand more dataset characteristics \n",
    "# Type your code here\n",
    "# nbr_surviv = titanic[titanic['Survived']==1]\n",
    "# nbr_died = titanic[titanic['Survived']==0]\n",
    "\n",
    "nbr_surviv = titanic.where(titanic['Survived']==1)\n",
    "nbr_died = titanic.where(titanic['Survived']==0)\n",
    "\n",
    "print(\"The number of survived passenger in titanic dataset is: \",nbr_surviv)\n",
    "print(\"The number of died passenger in titanic dataset is: \",nbr_died)"
   ]
  },
  {
   "cell_type": "markdown",
   "metadata": {},
   "source": [
    "#### Remove not significant features\n",
    "Some features in the \"titanic\" dataset are meaningless and they doesn't help to predict survivability. Thus, we should remove them.\n",
    "\n",
    "**Question 3: **\n",
    "- The \"Name\" and \"cabin\" number are two meaningless features and  there are two other features try to guess them. Then, remove all these 4 features from \"titanic\" dataframe.  \n",
    "**Hint:** You can use \"[drop](https://pandas.pydata.org/pandas-docs/stable/generated/pandas.DataFrame.drop.html)\" function from pandas library."
   ]
  },
  {
   "cell_type": "code",
   "execution_count": 70,
   "metadata": {
    "collapsed": true
   },
   "outputs": [
    {
     "data": {
      "text/html": [
       "<div>\n",
       "<style scoped>\n",
       "    .dataframe tbody tr th:only-of-type {\n",
       "        vertical-align: middle;\n",
       "    }\n",
       "\n",
       "    .dataframe tbody tr th {\n",
       "        vertical-align: top;\n",
       "    }\n",
       "\n",
       "    .dataframe thead th {\n",
       "        text-align: right;\n",
       "    }\n",
       "</style>\n",
       "<table border=\"1\" class=\"dataframe\">\n",
       "  <thead>\n",
       "    <tr style=\"text-align: right;\">\n",
       "      <th></th>\n",
       "      <th>PassengerId</th>\n",
       "      <th>Survived</th>\n",
       "      <th>Pclass</th>\n",
       "      <th>Sex</th>\n",
       "      <th>Age</th>\n",
       "      <th>SibSp</th>\n",
       "      <th>Parch</th>\n",
       "      <th>Fare</th>\n",
       "      <th>Embarked</th>\n",
       "    </tr>\n",
       "  </thead>\n",
       "  <tbody>\n",
       "    <tr>\n",
       "      <th>0</th>\n",
       "      <td>1</td>\n",
       "      <td>0</td>\n",
       "      <td>3</td>\n",
       "      <td>male</td>\n",
       "      <td>22.0</td>\n",
       "      <td>1</td>\n",
       "      <td>0</td>\n",
       "      <td>7.2500</td>\n",
       "      <td>S</td>\n",
       "    </tr>\n",
       "    <tr>\n",
       "      <th>1</th>\n",
       "      <td>2</td>\n",
       "      <td>1</td>\n",
       "      <td>1</td>\n",
       "      <td>female</td>\n",
       "      <td>38.0</td>\n",
       "      <td>1</td>\n",
       "      <td>0</td>\n",
       "      <td>71.2833</td>\n",
       "      <td>C</td>\n",
       "    </tr>\n",
       "    <tr>\n",
       "      <th>2</th>\n",
       "      <td>3</td>\n",
       "      <td>1</td>\n",
       "      <td>3</td>\n",
       "      <td>female</td>\n",
       "      <td>26.0</td>\n",
       "      <td>0</td>\n",
       "      <td>0</td>\n",
       "      <td>7.9250</td>\n",
       "      <td>S</td>\n",
       "    </tr>\n",
       "    <tr>\n",
       "      <th>3</th>\n",
       "      <td>4</td>\n",
       "      <td>1</td>\n",
       "      <td>1</td>\n",
       "      <td>female</td>\n",
       "      <td>35.0</td>\n",
       "      <td>1</td>\n",
       "      <td>0</td>\n",
       "      <td>53.1000</td>\n",
       "      <td>S</td>\n",
       "    </tr>\n",
       "    <tr>\n",
       "      <th>4</th>\n",
       "      <td>5</td>\n",
       "      <td>0</td>\n",
       "      <td>3</td>\n",
       "      <td>male</td>\n",
       "      <td>35.0</td>\n",
       "      <td>0</td>\n",
       "      <td>0</td>\n",
       "      <td>8.0500</td>\n",
       "      <td>S</td>\n",
       "    </tr>\n",
       "  </tbody>\n",
       "</table>\n",
       "</div>"
      ],
      "text/plain": [
       "   PassengerId  Survived  Pclass     Sex   Age  SibSp  Parch     Fare Embarked\n",
       "0            1         0       3    male  22.0      1      0   7.2500        S\n",
       "1            2         1       1  female  38.0      1      0  71.2833        C\n",
       "2            3         1       3  female  26.0      0      0   7.9250        S\n",
       "3            4         1       1  female  35.0      1      0  53.1000        S\n",
       "4            5         0       3    male  35.0      0      0   8.0500        S"
      ]
     },
     "execution_count": 70,
     "metadata": {},
     "output_type": "execute_result"
    }
   ],
   "source": [
    "# remove non relevant features\n",
    "# Type your code here\n",
    "titanic1= titanic.drop(['Name','Ticket','Cabin'], axis=1)\n",
    "titanic1.head()"
   ]
  },
  {
   "cell_type": "markdown",
   "metadata": {},
   "source": [
    "#### Deal with missing values\n",
    "We note from the printed information about our dataset (with the command titanic.info()), that the \"Age\", \"Cabin\" and \"Embarked\" features have some missing values for some passengers. \n",
    "\n",
    "First, we will try to estimate missing \"Age\" from the passenger class \"Pclass\". If, we calculate the mean age of each class, we note that the 1st class passengers tend to be older than 3rd class manager. Hence, you should fill missing age values with the mean age of the corresponding passenger class."
   ]
  },
  {
   "cell_type": "code",
   "execution_count": 85,
   "metadata": {
    "collapsed": true
   },
   "outputs": [
    {
     "data": {
      "image/png": "[encoded data removed]",
      "text/plain": [
       "<Figure size 432x288 with 1 Axes>"
      ]
     },
     "metadata": {},
     "output_type": "display_data"
    }
   ],
   "source": [
    "%matplotlib inline\n",
    "\n",
    "# visualize Age box plot for each passenger class\n",
    "sns.set_style('whitegrid')\n",
    "sns.boxplot(x='Pclass', y='Age', data=titanic, palette='hls')\n",
    "plt.show()\n",
    "\n",
    "# calculate mean \"Age\" per \"Pclass\"\n",
    "age = titanic.groupby('Pclass').mean()"
   ]
  },
  {
   "cell_type": "markdown",
   "metadata": {},
   "source": [
    "As can we see, the age of passengers of class 1 is higher than class 2 , and class 2 is higher than class 3.\n",
    "It can reflect that rich people are usually elder people, and they prefer the class 1."
   ]
  },
  {
   "cell_type": "markdown",
   "metadata": {},
   "source": [
    "**Question 4: **\n",
    "- Fill the \"approx_age\" list with the estimated age from the previous means table. Put the estimated age for 1st class in the beginning of the list and for 3rd class at the end. "
   ]
  },
  {
   "cell_type": "code",
   "execution_count": 76,
   "metadata": {
    "collapsed": true
   },
   "outputs": [
    {
     "name": "stdout",
     "output_type": "stream",
     "text": [
      "Pclass\n",
      "1    38.233441\n",
      "2    29.877630\n",
      "3    25.140620\n",
      "Name: Age, dtype: float64\n",
      "0      False\n",
      "1      False\n",
      "2      False\n",
      "3      False\n",
      "4      False\n",
      "5       True\n",
      "6      False\n",
      "7      False\n",
      "8      False\n",
      "9      False\n",
      "10     False\n",
      "11     False\n",
      "12     False\n",
      "13     False\n",
      "14     False\n",
      "15     False\n",
      "16     False\n",
      "17      True\n",
      "18     False\n",
      "19      True\n",
      "20     False\n",
      "21     False\n",
      "22     False\n",
      "23     False\n",
      "24     False\n",
      "25     False\n",
      "26      True\n",
      "27     False\n",
      "28      True\n",
      "29      True\n",
      "       ...  \n",
      "861    False\n",
      "862    False\n",
      "863     True\n",
      "864    False\n",
      "865    False\n",
      "866    False\n",
      "867    False\n",
      "868     True\n",
      "869    False\n",
      "870    False\n",
      "871    False\n",
      "872    False\n",
      "873    False\n",
      "874    False\n",
      "875    False\n",
      "876    False\n",
      "877    False\n",
      "878     True\n",
      "879    False\n",
      "880    False\n",
      "881    False\n",
      "882    False\n",
      "883    False\n",
      "884    False\n",
      "885    False\n",
      "886    False\n",
      "887    False\n",
      "888     True\n",
      "889    False\n",
      "890    False\n",
      "Name: Age, Length: 891, dtype: bool\n",
      "The number of missing value per feature:\n",
      " PassengerId      0\n",
      "Survived         0\n",
      "Pclass           0\n",
      "Name             0\n",
      "Sex              0\n",
      "Age            177\n",
      "SibSp            0\n",
      "Parch            0\n",
      "Ticket           0\n",
      "Fare             0\n",
      "Cabin          687\n",
      "Embarked         2\n",
      "dtype: int64\n"
     ]
    }
   ],
   "source": [
    "# estimate missing Age\n",
    "# Type your code here\n",
    "approx_age = age.Age\n",
    "print(approx_age)\n",
    "\n",
    "# replace null value by estimated \"Age\"\n",
    "# null_age_idx=titanic.isnull(titanic.Age)    # you can also use:  null_age_idx=pd.isnull(titanic['Age'])\n",
    "null_age_idx=titanic['Age'].isnull()\n",
    "print(null_age_idx)\n",
    "# titanic.loc[null_age_idx,'Age']=[approx_age[i-1] for i in titanic.loc[null_age_idx,'Pclass']]\n",
    "# verify the remaining number of missing value\n",
    "print(\"The number of missing value per feature:\\n\",titanic.isnull().sum())"
   ]
  },
  {
   "cell_type": "markdown",
   "metadata": {},
   "source": [
    "- We note that there is two passengers that we don't know their embarking port. We can discard these two samples by dropping them.  \n",
    "**Hint:** We can use \"[dropna](https://pandas.pydata.org/pandas-docs/stable/generated/pandas.DataFrame.dropna.html)\" function from pandas library."
   ]
  },
  {
   "cell_type": "code",
   "execution_count": 57,
   "metadata": {
    "collapsed": true
   },
   "outputs": [
    {
     "name": "stdout",
     "output_type": "stream",
     "text": [
      "The number of missing value per feature:\n",
      " PassengerId    0\n",
      "Survived       0\n",
      "Pclass         0\n",
      "Sex            0\n",
      "Age            0\n",
      "SibSp          0\n",
      "Parch          0\n",
      "Fare           0\n",
      "Embarked       0\n",
      "dtype: int64\n"
     ]
    }
   ],
   "source": [
    "titanic=titanic.dropna()\n",
    "print(\"The number of missing value per feature:\\n\",titanic.isnull().sum())"
   ]
  },
  {
   "cell_type": "markdown",
   "metadata": {},
   "source": [
    "#### Insert dummies variable\n",
    "In the \"titanic\" dataset contains some qualitative features like \"Sex\" and \"Embarked\" port. In order to make the  useful in our computational model we should encode them with a numeric way with introducing order between \"Embarked\" categories for instance.  \n",
    "\n",
    "In our case, we will use dummies variable method which consist on creating new boolean variable for each categories and encode each categories with \"True\" on the corresponding dummy variable."
   ]
  },
  {
   "cell_type": "code",
   "execution_count": 58,
   "metadata": {
    "collapsed": true
   },
   "outputs": [
    {
     "name": "stdout",
     "output_type": "stream",
     "text": [
      "Remplacement 'Sex' dummy variable:\n",
      "    male\n",
      "0     1\n",
      "1     0\n",
      "2     0\n",
      "3     0\n",
      "4     1\n",
      "Remplacement 'Embarked' dummies variables:\n",
      "    Q  S\n",
      "0  0  1\n",
      "1  0  0\n",
      "2  0  1\n",
      "3  0  1\n",
      "4  0  1\n"
     ]
    },
    {
     "data": {
      "text/html": [
       "<div>\n",
       "<style scoped>\n",
       "    .dataframe tbody tr th:only-of-type {\n",
       "        vertical-align: middle;\n",
       "    }\n",
       "\n",
       "    .dataframe tbody tr th {\n",
       "        vertical-align: top;\n",
       "    }\n",
       "\n",
       "    .dataframe thead th {\n",
       "        text-align: right;\n",
       "    }\n",
       "</style>\n",
       "<table border=\"1\" class=\"dataframe\">\n",
       "  <thead>\n",
       "    <tr style=\"text-align: right;\">\n",
       "      <th></th>\n",
       "      <th>PassengerId</th>\n",
       "      <th>Survived</th>\n",
       "      <th>Pclass</th>\n",
       "      <th>Age</th>\n",
       "      <th>SibSp</th>\n",
       "      <th>Parch</th>\n",
       "      <th>Fare</th>\n",
       "      <th>male</th>\n",
       "      <th>Q</th>\n",
       "      <th>S</th>\n",
       "    </tr>\n",
       "  </thead>\n",
       "  <tbody>\n",
       "    <tr>\n",
       "      <th>0</th>\n",
       "      <td>1</td>\n",
       "      <td>0</td>\n",
       "      <td>3</td>\n",
       "      <td>22.0</td>\n",
       "      <td>1</td>\n",
       "      <td>0</td>\n",
       "      <td>7.2500</td>\n",
       "      <td>1</td>\n",
       "      <td>0</td>\n",
       "      <td>1</td>\n",
       "    </tr>\n",
       "    <tr>\n",
       "      <th>1</th>\n",
       "      <td>2</td>\n",
       "      <td>1</td>\n",
       "      <td>1</td>\n",
       "      <td>38.0</td>\n",
       "      <td>1</td>\n",
       "      <td>0</td>\n",
       "      <td>71.2833</td>\n",
       "      <td>0</td>\n",
       "      <td>0</td>\n",
       "      <td>0</td>\n",
       "    </tr>\n",
       "    <tr>\n",
       "      <th>2</th>\n",
       "      <td>3</td>\n",
       "      <td>1</td>\n",
       "      <td>3</td>\n",
       "      <td>26.0</td>\n",
       "      <td>0</td>\n",
       "      <td>0</td>\n",
       "      <td>7.9250</td>\n",
       "      <td>0</td>\n",
       "      <td>0</td>\n",
       "      <td>1</td>\n",
       "    </tr>\n",
       "    <tr>\n",
       "      <th>3</th>\n",
       "      <td>4</td>\n",
       "      <td>1</td>\n",
       "      <td>1</td>\n",
       "      <td>35.0</td>\n",
       "      <td>1</td>\n",
       "      <td>0</td>\n",
       "      <td>53.1000</td>\n",
       "      <td>0</td>\n",
       "      <td>0</td>\n",
       "      <td>1</td>\n",
       "    </tr>\n",
       "    <tr>\n",
       "      <th>4</th>\n",
       "      <td>5</td>\n",
       "      <td>0</td>\n",
       "      <td>3</td>\n",
       "      <td>35.0</td>\n",
       "      <td>0</td>\n",
       "      <td>0</td>\n",
       "      <td>8.0500</td>\n",
       "      <td>1</td>\n",
       "      <td>0</td>\n",
       "      <td>1</td>\n",
       "    </tr>\n",
       "  </tbody>\n",
       "</table>\n",
       "</div>"
      ],
      "text/plain": [
       "   PassengerId  Survived  Pclass   Age  SibSp  Parch     Fare  male  Q  S\n",
       "0            1         0       3  22.0      1      0   7.2500     1  0  1\n",
       "1            2         1       1  38.0      1      0  71.2833     0  0  0\n",
       "2            3         1       3  26.0      0      0   7.9250     0  0  1\n",
       "3            4         1       1  35.0      1      0  53.1000     0  0  1\n",
       "4            5         0       3  35.0      0      0   8.0500     1  0  1"
      ]
     },
     "execution_count": 58,
     "metadata": {},
     "output_type": "execute_result"
    }
   ],
   "source": [
    "# create \"sex\" dummy variable\n",
    "sex = pd.get_dummies(titanic['Sex'],drop_first=True)\n",
    "print(\"Remplacement 'Sex' dummy variable:\\n\",sex.head())\n",
    "\n",
    "# create \"embark_port\" dummies variables\n",
    "embark_port = pd.get_dummies(titanic['Embarked'],drop_first=True)\n",
    "print(\"Remplacement 'Embarked' dummies variables:\\n\",embark_port.head())\n",
    "\n",
    "# remove qualitative features\n",
    "titanic.drop(['Sex', 'Embarked'],axis=1,inplace=True)\n",
    "\n",
    "# insert new dummies variables to replace qualitative features\n",
    "titanic_dmy = pd.concat([titanic,sex,embark_port],axis=1)\n",
    "titanic_dmy.head()"
   ]
  },
  {
   "cell_type": "markdown",
   "metadata": {},
   "source": [
    "#### Study correlation between feature\n",
    "\n",
    "Execute the following code block to visualize the  correlation matrix of our processed dataset."
   ]
  },
  {
   "cell_type": "code",
   "execution_count": 59,
   "metadata": {
    "collapsed": true
   },
   "outputs": [
    {
     "data": {
      "text/plain": [
       "<matplotlib.axes._subplots.AxesSubplot at 0xc22f780>"
      ]
     },
     "execution_count": 59,
     "metadata": {},
     "output_type": "execute_result"
    },
    {
     "data": {
      "image/png": "[encoded data removed]",
      "text/plain": [
       "<Figure size 432x288 with 2 Axes>"
      ]
     },
     "metadata": {},
     "output_type": "display_data"
    }
   ],
   "source": [
    "# correlation matrix\n",
    "sns.heatmap(titanic_dmy.corr(),cmap=cm.coolwarm,annot=True, fmt=\".2f\")"
   ]
  },
  {
   "cell_type": "markdown",
   "metadata": {},
   "source": [
    "From the correlation matrix, We note that passenger \"Pclass\" and ticket \"Fare\" features are correlated (correlation factor $> 0.5 $). Thus, we can keep only one of them. we will keep \"Pclass\" and remove \"Fare\" feature since it is less expressive.\n",
    "\n",
    "We note also that, \"Survived\" and \"male\" features are also correlated. This means that \"male\" feature can give high intuition about if the passenger had \"Survived\"."
   ]
  },
  {
   "cell_type": "code",
   "execution_count": 60,
   "metadata": {
    "collapsed": true
   },
   "outputs": [
    {
     "name": "stdout",
     "output_type": "stream",
     "text": [
      "\n",
      "Information about the final dataset:\n",
      "<class 'pandas.core.frame.DataFrame'>\n",
      "Int64Index: 712 entries, 0 to 890\n",
      "Data columns (total 9 columns):\n",
      "PassengerId    712 non-null int64\n",
      "Survived       712 non-null int64\n",
      "Pclass         712 non-null int64\n",
      "Age            712 non-null float64\n",
      "SibSp          712 non-null int64\n",
      "Parch          712 non-null int64\n",
      "male           712 non-null uint8\n",
      "Q              712 non-null uint8\n",
      "S              712 non-null uint8\n",
      "dtypes: float64(1), int64(5), uint8(3)\n",
      "memory usage: 41.0 KB\n"
     ]
    },
    {
     "data": {
      "text/html": [
       "<div>\n",
       "<style scoped>\n",
       "    .dataframe tbody tr th:only-of-type {\n",
       "        vertical-align: middle;\n",
       "    }\n",
       "\n",
       "    .dataframe tbody tr th {\n",
       "        vertical-align: top;\n",
       "    }\n",
       "\n",
       "    .dataframe thead th {\n",
       "        text-align: right;\n",
       "    }\n",
       "</style>\n",
       "<table border=\"1\" class=\"dataframe\">\n",
       "  <thead>\n",
       "    <tr style=\"text-align: right;\">\n",
       "      <th></th>\n",
       "      <th>PassengerId</th>\n",
       "      <th>Survived</th>\n",
       "      <th>Pclass</th>\n",
       "      <th>Age</th>\n",
       "      <th>SibSp</th>\n",
       "      <th>Parch</th>\n",
       "      <th>male</th>\n",
       "      <th>Q</th>\n",
       "      <th>S</th>\n",
       "    </tr>\n",
       "  </thead>\n",
       "  <tbody>\n",
       "    <tr>\n",
       "      <th>0</th>\n",
       "      <td>1</td>\n",
       "      <td>0</td>\n",
       "      <td>3</td>\n",
       "      <td>22.0</td>\n",
       "      <td>1</td>\n",
       "      <td>0</td>\n",
       "      <td>1</td>\n",
       "      <td>0</td>\n",
       "      <td>1</td>\n",
       "    </tr>\n",
       "    <tr>\n",
       "      <th>1</th>\n",
       "      <td>2</td>\n",
       "      <td>1</td>\n",
       "      <td>1</td>\n",
       "      <td>38.0</td>\n",
       "      <td>1</td>\n",
       "      <td>0</td>\n",
       "      <td>0</td>\n",
       "      <td>0</td>\n",
       "      <td>0</td>\n",
       "    </tr>\n",
       "    <tr>\n",
       "      <th>2</th>\n",
       "      <td>3</td>\n",
       "      <td>1</td>\n",
       "      <td>3</td>\n",
       "      <td>26.0</td>\n",
       "      <td>0</td>\n",
       "      <td>0</td>\n",
       "      <td>0</td>\n",
       "      <td>0</td>\n",
       "      <td>1</td>\n",
       "    </tr>\n",
       "    <tr>\n",
       "      <th>3</th>\n",
       "      <td>4</td>\n",
       "      <td>1</td>\n",
       "      <td>1</td>\n",
       "      <td>35.0</td>\n",
       "      <td>1</td>\n",
       "      <td>0</td>\n",
       "      <td>0</td>\n",
       "      <td>0</td>\n",
       "      <td>1</td>\n",
       "    </tr>\n",
       "    <tr>\n",
       "      <th>4</th>\n",
       "      <td>5</td>\n",
       "      <td>0</td>\n",
       "      <td>3</td>\n",
       "      <td>35.0</td>\n",
       "      <td>0</td>\n",
       "      <td>0</td>\n",
       "      <td>1</td>\n",
       "      <td>0</td>\n",
       "      <td>1</td>\n",
       "    </tr>\n",
       "  </tbody>\n",
       "</table>\n",
       "</div>"
      ],
      "text/plain": [
       "   PassengerId  Survived  Pclass   Age  SibSp  Parch  male  Q  S\n",
       "0            1         0       3  22.0      1      0     1  0  1\n",
       "1            2         1       1  38.0      1      0     0  0  0\n",
       "2            3         1       3  26.0      0      0     0  0  1\n",
       "3            4         1       1  35.0      1      0     0  0  1\n",
       "4            5         0       3  35.0      0      0     1  0  1"
      ]
     },
     "execution_count": 60,
     "metadata": {},
     "output_type": "execute_result"
    }
   ],
   "source": [
    "# correlated variable \"Fare\"\n",
    "titanic_dmy=titanic_dmy.drop(['Fare'],axis=1)\n",
    "\n",
    "# Visualize final dataset\n",
    "print(\"\\nInformation about the final dataset:\")\n",
    "titanic_dmy.info()\n",
    "\n",
    "titanic_dmy.head()"
   ]
  },
  {
   "cell_type": "markdown",
   "metadata": {},
   "source": [
    "### Train logistic classifier and predict\n",
    "**Question 5: **\n",
    "- Use \"[fit](http://scikit-learn.org/stable/modules/generated/sklearn.linear_model.LogisticRegression.html#sklearn.linear_model.LogisticRegression.fit)\" function to train the logistic model \"Logistic_Regr\"\n",
    "- Use \"[predict](http://scikit-learn.org/stable/modules/generated/sklearn.linear_model.LogisticRegression.html#sklearn.linear_model.LogisticRegression.predict)\" function to predict if passengers (X array) is survived or not.\n",
    "- calculate the accuracy (number of good prediction/number of all passengers) of the logistic model."
   ]
  },
  {
   "cell_type": "code",
   "execution_count": 83,
   "metadata": {
    "collapsed": true
   },
   "outputs": [
    {
     "name": "stderr",
     "output_type": "stream",
     "text": [
      "D:\\Study\\WPy-3670\\python-3.6.7.amd64\\lib\\site-packages\\sklearn\\linear_model\\logistic.py:432: FutureWarning: Default solver will be changed to 'lbfgs' in 0.22. Specify a solver to silence this warning.\n",
      "  FutureWarning)\n",
      "D:\\Study\\WPy-3670\\python-3.6.7.amd64\\lib\\site-packages\\sklearn\\linear_model\\logistic.py:459: FutureWarning: Default multi_class will be changed to 'auto' in 0.22. Specify the multi_class option to silence this warning.\n",
      "  \"this warning.\", FutureWarning)\n"
     ]
    },
    {
     "name": "stdout",
     "output_type": "stream",
     "text": [
      "The accuracy of our logistic classifier is:  7.584269662921349\n"
     ]
    }
   ],
   "source": [
    "# extract feature and target columns\n",
    "from sklearn.metrics import accuracy_score\n",
    "X = titanic_dmy.iloc[:,1:8].values\n",
    "Y = titanic_dmy.iloc[:,0].values\n",
    "\n",
    "# train logistic classifier\n",
    "Logistic_Regr = LogisticRegression()\n",
    "# Type your code here\n",
    "fitdata = Logistic_Regr.fit(X, Y)\n",
    "\n",
    "# predict survavibality\n",
    "# Type your code here\n",
    "Yhat = Logistic_Regr.predict(X)\n",
    "\n",
    "# calculate accuracy\n",
    "# Type your code here\n",
    "accuracy = accuracy_score(Yhat, Y)*100\n",
    "print(\"The accuracy of our logistic classifier is: \", accuracy)"
   ]
  },
  {
   "cell_type": "code",
   "execution_count": null,
   "metadata": {},
   "outputs": [],
   "source": []
  },
  {
   "cell_type": "code",
   "execution_count": null,
   "metadata": {},
   "outputs": [],
   "source": []
  },
  {
   "cell_type": "code",
   "execution_count": null,
   "metadata": {},
   "outputs": [],
   "source": []
  }
 ],
 "metadata": {
  "kernelspec": {
   "display_name": "Python 3",
   "language": "python",
   "name": "python3"
  },
  "language_info": {
   "codemirror_mode": {
    "name": "ipython",
    "version": 3
   },
   "file_extension": ".py",
   "mimetype": "text/x-python",
   "name": "python",
   "nbconvert_exporter": "python",
   "pygments_lexer": "ipython3",
   "version": "3.6.5"
  }
 },
 "nbformat": 4,
 "nbformat_minor": 2
}
