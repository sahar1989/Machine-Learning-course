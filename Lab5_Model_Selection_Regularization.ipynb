{
 "cells": [
  {
   "cell_type": "markdown",
   "metadata": {},
   "source": [
    "# Lab 5: Model Selection and Regularization"
   ]
  },
  {
   "cell_type": "markdown",
   "metadata": {},
   "source": [
    "In  this session, we will use the already seen datasets to illustrate important techniques like validation and regularization. First, we use the student \"exams\" dataset to understand the need of test data in addition to the training data.  \n",
    "\n",
    "Then, we will illustrate the under-fitting and over-fitting phenomenas on randomly generated data. After that, we will select a model that fits the best our validation data.\n",
    "\n",
    "Finally, we will implement regularization technique on the \"Microchip\" testing dataset. Thus, we can understand how this technique helps to prevent over-fitting. "
   ]
  },
  {
   "cell_type": "markdown",
   "metadata": {},
   "source": [
    "<h2>Preparation</h2>"
   ]
  },
  {
   "cell_type": "markdown",
   "metadata": {},
   "source": [
    "We'll need the following libraries:"
   ]
  },
  {
   "cell_type": "code",
   "execution_count": 1,
   "metadata": {},
   "outputs": [],
   "source": [
    "import numpy as np\n",
    "import matplotlib.pyplot as plt\n",
    "from matplotlib.patches import Rectangle\n",
    "from scipy.optimize import fmin_bfgs\n",
    "from sklearn.linear_model import LinearRegression\n",
    "from sklearn.preprocessing import PolynomialFeatures\n",
    "from sklearn.metrics.regression import mean_squared_error\n",
    "from sklearn.model_selection import train_test_split\n",
    "import sklearn.metrics as sklm\n",
    "import warnings\n",
    "warnings.filterwarnings(\"ignore\", category=RuntimeWarning) \n",
    "%matplotlib notebook"
   ]
  },
  {
   "cell_type": "markdown",
   "metadata": {},
   "source": [
    "### Part 1: Train and Test data: Student \"exams\" dataset"
   ]
  },
  {
   "cell_type": "markdown",
   "metadata": {},
   "source": [
    "In this part, we will train a logistic classifier on the training data of student \"exams\" dataset. Then, we will predict the student admission of the test data and compare the accuracy of the classifier on the training and test data."
   ]
  },
  {
   "cell_type": "markdown",
   "metadata": {},
   "source": [
    "**Question 1: **  \n",
    "The *\"exams_train_data.txt\"* file contains 3 columns that represent the exam 1, exam 2 scores and the results of 100 students (0: Not admitted, 1: Admitted). \n",
    "- Load train data from \"exams_train_data.txt\" file in \"students_results_train\" variable and check its size. (use [loadtxt](https://docs.scipy.org/doc/numpy-1.13.0/reference/generated/numpy.loadtxt.html) function from numpy library)\n",
    "- Extract the number of students, the features and the output.\n",
    "- Implement the \"Poly_Features\" function that concatenates to data array the different possible powers (below deg) and interaction terms of feature vectors f1 and f2 as shown below:$$data=[1,~f_1,~ f_2,~ f_1^2,~ f_1\\times f_2,~ f_2^2,~ \\dots,~ f_1^{deg},~ f_1^{deg-1}\\times f_2,~\\dots,~ f_2^{deg}]$$"
   ]
  },
  {
   "cell_type": "code",
   "execution_count": 8,
   "metadata": {},
   "outputs": [
    {
     "name": "stdout",
     "output_type": "stream",
     "text": [
      "The training data contains 100 student results. There are 2 columns for each exam score and 1 column for admission\n",
      "(100, 1)\n",
      "(100, 1)\n",
      "(100, 1)\n"
     ]
    }
   ],
   "source": [
    "#load training data\n",
    "# Type your code here\n",
    "students_results_train =  np.loadtxt('exams_train_data.txt')\n",
    "\n",
    "# you could verify the size of the data using shape() function on numpy array house_data\n",
    "print(\"The training data contains {0} student results. There are {1} columns for each exam score and 1 column for admission\".format(students_results_train.shape[0],students_results_train.shape[1]-1))\n",
    "\n",
    "# Type your code here\n",
    "m_train =  students_results_train.shape[0]                                      # number of student\n",
    "x_1_train = students_results_train[:,0,np.newaxis]                                 # we add np.newaxis in the indexing to obtain an array \n",
    "x_2_train =  students_results_train[:,1,np.newaxis]                                     # with shape (m,1) instead of (m,)\n",
    "y_train =  students_results_train[:,2,np.newaxis]                                    # the student admission result vector\n",
    "print(x_1_train.shape)\n",
    "print(x_2_train.shape)\n",
    "print(y_train.shape)"
   ]
  },
  {
   "cell_type": "code",
   "execution_count": 120,
   "metadata": {},
   "outputs": [],
   "source": [
    "# Integrate interaction terms (x_1^i*x_2^j where i+j<=degree)\n",
    "def Poly_Features(data,f1,f2,deg,ax=1):\n",
    "    # Type your code here\n",
    "    for i in range(1,deg+1): \n",
    "        for j in range(i+1):\n",
    "            terms= (f1**(i-j) * f2**j)\n",
    "            data = np.append(data,terms,ax)        \n",
    "    return data "
   ]
  },
  {
   "cell_type": "markdown",
   "metadata": {},
   "source": [
    "**Question 2: ** \n",
    "- Use the implemented function \"Poly_Features\" to generate the array of features X_train.\n",
    "- Determine the number of features n."
   ]
  },
  {
   "cell_type": "code",
   "execution_count": 121,
   "metadata": {},
   "outputs": [
    {
     "name": "stdout",
     "output_type": "stream",
     "text": [
      "The number of features is:  6\n"
     ]
    }
   ],
   "source": [
    "# add polynomial features to the array data X\n",
    "degree=2  # degree of polynomial feature\n",
    "X_train=np.ones((m_train,1))   # initialize X array\n",
    "# Type your code here\n",
    "X_train = Poly_Features(X_train,x_1_train,x_2_train,degree,1)  \n",
    "n =X_train.shape[1]                        # number of features\n",
    "print(\"The number of features is: \",n)"
   ]
  },
  {
   "cell_type": "markdown",
   "metadata": {},
   "source": [
    "**Question 3: **  \n",
    "- Create a sigmoid function that returns $sigmoid(z)=\\frac{1}{1+e^{-z}}$  \n",
    "**Hint:** For a vectorized implementation:\n",
    "- Use [<code>numpy.ones</code>](https://docs.scipy.org/doc/numpy-1.14.0/reference/generated/numpy.ones.html) to have a numerator with the same shape of z\n",
    "- Use [<code>numpy.exp</code>](https://docs.scipy.org/doc/numpy/reference/generated/numpy.exp.html)"
   ]
  },
  {
   "cell_type": "code",
   "execution_count": 122,
   "metadata": {},
   "outputs": [],
   "source": [
    "def sigmoid(z):\n",
    "    # Type your code here\n",
    "    a1 = np.ones(z.shape)\n",
    "    sigmoid=a1/(a1+np.exp(-z))\n",
    "    return sigmoid"
   ]
  },
  {
   "cell_type": "markdown",
   "metadata": {},
   "source": [
    "**Question 4: **\n",
    "- Create your logistic regression predict function\n",
    "$$yhat=sigmoid(\\theta^\\top x)=\\frac{1}{1+e^{-\\theta^\\top x}}$$\n",
    "**Hint:** Use the sigmoid function  \n",
    "This new hypothesis formulas will ensure: $0\\leq yhat_i\\leq 1$ "
   ]
  },
  {
   "cell_type": "code",
   "execution_count": 123,
   "metadata": {},
   "outputs": [],
   "source": [
    "# Create predict function\n",
    "def predict(x,theta):\n",
    "    # Type your code here\n",
    "    yhat=0\n",
    "    yhat = sigmoid(np.dot(x,theta))\n",
    "    return yhat"
   ]
  },
  {
   "cell_type": "markdown",
   "metadata": {},
   "source": [
    "**Question 5:** \n",
    "- Store in the variable m the number of samples.\n",
    "- Define the criterion or cost function that returns the NLL (Negative Log Likelihood Error):  \n",
    "**Negative Log Likelihood Error (NLL)**: $$cost=J(\\theta)=\\frac{-1}{m}\\sum_{i=1}^{m}\\left [y\\times log(yhat)+(1-y)\\times log(1-yhat)\\right ]$$\n",
    "**Hint:** For a vectorized implementation:\n",
    "- Use [<code>numpy.sum</code>](https://docs.scipy.org/doc/numpy-1.15.1/reference/generated/numpy.sum.html) and [<code>numpy.log</code>](https://docs.scipy.org/doc/numpy-1.15.0/reference/generated/numpy.log.html)"
   ]
  },
  {
   "cell_type": "code",
   "execution_count": 124,
   "metadata": {},
   "outputs": [],
   "source": [
    "def NLL_cost(yhat, y):\n",
    "    # Type your code here\n",
    "    m=y.shape[0]\n",
    "    a1 = np.ones((y.shape[0],1))   \n",
    "    J =(-np.sum((np.log(yhat)*y)+(np.log(a1-yhat)*(a1-y))))/m\n",
    "    return J "
   ]
  },
  {
   "cell_type": "markdown",
   "metadata": {},
   "source": [
    "**Question 6:** \n",
    "The gradient vector of the logistic cost function is calculated as following: $$\\nabla J(\\theta) = \\begin{bmatrix}\\frac{\\partial J(\\theta)}{\\partial \\theta_0}\n",
    "\\\\ \\frac{\\partial J(\\theta)}{\\partial \\theta_1}\n",
    "\\\\ \\vdots\n",
    "\\\\ \\frac{\\partial J(\\theta)}{\\partial \\theta_{n-1}}\n",
    "\\end{bmatrix}$$ \n",
    "where: $\\frac{\\partial J(\\theta)}{\\partial \\theta_j} = \\frac{1}{m} \\sum_{i=1}^{m}{(yhat_i - y_i)~x_{ij}} ~~for~ j=0\\dots n-1$\n",
    "- Implement the \"grad_cost_func\" function that evaluates the gradient of logistic cost function.  \n",
    "**Hint:** You can use the vectorized form: $\\nabla J(\\theta) =\\frac{1}{m} x^T(yhat-y)$"
   ]
  },
  {
   "cell_type": "code",
   "execution_count": 125,
   "metadata": {},
   "outputs": [],
   "source": [
    "def grad_cost_func(theta, x, y):\n",
    "    # Type your code here\n",
    "    m = y.shape[0]\n",
    "    yhat=0\n",
    "    yhat=predict(x,theta)\n",
    "    g= np.dot(x.transpose(),(yhat-y))/m\n",
    "    return g  "
   ]
  },
  {
   "cell_type": "markdown",
   "metadata": {},
   "source": [
    "**Question 7: **\n",
    "- Call \"fmin_bfgs\" function to calculate the optimal theta. This function take as parameters: the name of cost function (\"NLL_cost_fn\"), the name of gradient cost function (\"grad_cost_fn\") and the initial theta (\"theta0\").\n",
    "- Print the optimal theta."
   ]
  },
  {
   "cell_type": "code",
   "execution_count": 126,
   "metadata": {},
   "outputs": [],
   "source": [
    "def NLL_cost_fn(theta):\n",
    "    J=NLL_cost(predict(X_train,theta[:,np.newaxis]), y_train)\n",
    "    return J"
   ]
  },
  {
   "cell_type": "code",
   "execution_count": 127,
   "metadata": {},
   "outputs": [],
   "source": [
    "def grad_cost_fn(theta):\n",
    "    g=grad_cost_func(theta[:,np.newaxis], X_train, y_train)\n",
    "    g.shape=(g.shape[0],)\n",
    "    return g  "
   ]
  },
  {
   "cell_type": "code",
   "execution_count": 128,
   "metadata": {},
   "outputs": [
    {
     "name": "stdout",
     "output_type": "stream",
     "text": [
      "(6,)\n",
      "Warning: Desired error not necessarily achieved due to precision loss.\n",
      "         Current function value: nan\n",
      "         Iterations: 10\n",
      "         Function evaluations: 34\n",
      "         Gradient evaluations: 34\n",
      "The optimal value of theta that minimize cost function is:  [-0.39063862 -1.55957356 -1.90307948  0.01115259  0.26116427  0.02626949]\n"
     ]
    }
   ],
   "source": [
    "# calculate optimal theta\n",
    "theta0=np.zeros((n,))\n",
    "#theta0 = np.zeros(shape=(X_train.shape[1], 1))\n",
    "print(theta0.shape)\n",
    "# Type your code here\n",
    "Thopt,_,_,_,_,_,_, =  fmin_bfgs(NLL_cost_fn, theta0, grad_cost_fn, full_output=True)\n",
    "print(\"The optimal value of theta that minimize cost function is: \",Thopt)\n",
    "#print(\"Final error = \",NLL_cost(predict(X_train,Thopt[:,np.newaxis]),y_train))"
   ]
  },
  {
   "cell_type": "markdown",
   "metadata": {},
   "source": [
    "**Question 8: **\n",
    "- Predict \"y_pred_train\" the admission result of each student on train data.\n",
    "- Calculate the training accuracy (number of good prediction/number of all student) on the training data."
   ]
  },
  {
   "cell_type": "code",
   "execution_count": 129,
   "metadata": {},
   "outputs": [
    {
     "name": "stdout",
     "output_type": "stream",
     "text": [
      "(100,)\n",
      "(100,)\n",
      "[3.17040596e-03 3.64205725e-05 2.84224355e-03 9.99991708e-01\n",
      " 9.99999968e-01 5.92024295e-03 9.99999953e-01 4.39288296e-01\n",
      " 1.00000000e+00 5.71297929e-01 2.86889180e-01 3.47997527e-04\n",
      " 9.99999997e-01 1.00000000e+00 2.99838365e-02 9.99843482e-01\n",
      " 7.49408561e-01 1.34833439e-01 1.00000000e+00 6.87648123e-01\n",
      " 2.64335035e-02 9.99999923e-01 4.93153184e-03 7.37125492e-05\n",
      " 9.99997454e-01 9.97341031e-01 5.13655166e-01 2.66331070e-01\n",
      " 1.21197141e-01 3.09279065e-03 9.98764514e-01 9.99853394e-01\n",
      " 2.87914861e-01 7.27160304e-01 1.68375055e-02 3.52932941e-02\n",
      " 5.72357384e-02 9.99992233e-01 5.95749135e-02 1.75626445e-03\n",
      " 9.99601345e-01 3.75785003e-03 9.99999989e-01 1.36422649e-01\n",
      " 2.58789260e-03 2.29836539e-01 9.99998493e-01 1.00000000e+00\n",
      " 9.99999979e-01 1.00000000e+00 9.99999959e-01 9.99999958e-01\n",
      " 8.23081396e-01 3.32697509e-04 5.87049458e-03 5.83070143e-02\n",
      " 1.00000000e+00 1.32421879e-02 9.99990857e-01 9.99999683e-01\n",
      " 9.99999999e-01 1.13770744e-04 1.13424462e-03 4.17445470e-05\n",
      " 4.37105542e-02 1.13443554e-02 8.59792523e-01 7.05762497e-03\n",
      " 1.00000000e+00 9.82100205e-01 5.36807155e-05 9.99968919e-01\n",
      " 1.00000000e+00 9.98236176e-01 9.98648181e-01 1.00000000e+00\n",
      " 9.83640487e-01 8.95129499e-01 6.33451098e-03 3.37381143e-01\n",
      " 9.99999993e-01 9.84018380e-01 9.98857306e-01 4.68215934e-01\n",
      " 1.00000000e+00 9.99999943e-01 1.77728167e-01 1.00000000e+00\n",
      " 1.00000000e+00 1.79693397e-01 1.00000000e+00 1.00000000e+00\n",
      " 3.63500689e-04 9.99999998e-01 9.34132430e-01 9.49468527e-01\n",
      " 6.20202861e-01 1.00000000e+00 7.26816367e-01 1.00000000e+00]\n",
      "y_good [False False False  True  True False  True False  True  True False False\n",
      "  True  True False  True  True False  True  True False  True False False\n",
      "  True  True  True False False False  True  True False  True False False\n",
      " False  True False False  True False  True False False False  True  True\n",
      "  True  True  True  True  True False False False  True False  True  True\n",
      "  True False False False False False  True False  True  True False  True\n",
      "  True  True  True  True  True  True False False  True  True  True False\n",
      "  True  True False  True  True False  True  True False  True  True  True\n",
      "  True  True  True  True]\n",
      "count 58\n",
      "good_pre--> 58\n",
      "The accuracy on the training data is: 57.99999999999999 %\n"
     ]
    }
   ],
   "source": [
    "# calculate prediction and train accuracy\n",
    "# Type your code here\n",
    "y_pred_train = predict(X_train,Thopt)\n",
    "y_good =  y_pred_train >=0.5\n",
    "print(y_pred_train.shape)\n",
    "print(y_good.shape)\n",
    "count=0\n",
    "for i in range (1,y_pred_train.shape[0]):\n",
    "    if y_pred_train[i]> 0.5: \n",
    "        y_good[i]=1\n",
    "        count+=1\n",
    "   # else: \n",
    "     #   y_good[i]= 0\n",
    "print(y_pred_train)\n",
    "print(\"y_good\",y_good)\n",
    "print(\"count\",count)\n",
    "good_pre = np.count_nonzero(y_good)\n",
    "print(\"good_pre-->\",good_pre)\n",
    "train_accuracy = good_pre / X_train.shape[0] \n",
    "print(\"The accuracy on the training data is:\", train_accuracy*100,\"%\")"
   ]
  },
  {
   "cell_type": "markdown",
   "metadata": {},
   "source": [
    "Let's visualize the decision boundaries on the train data"
   ]
  },
  {
   "cell_type": "code",
   "execution_count": 130,
   "metadata": {},
   "outputs": [
    {
     "name": "stdout",
     "output_type": "stream",
     "text": [
      "(100,)\n",
      "(100,)\n",
      "(100, 100, 1)\n",
      "(100, 100, 6)\n",
      "(6,)\n"
     ]
    },
    {
     "data": {
      "text/plain": [
       "<matplotlib.legend.Legend at 0x6b49550>"
      ]
     },
     "execution_count": 130,
     "metadata": {},
     "output_type": "execute_result"
    },
    {
     "data": {
      "image/png": "[encoded data removed]",
      "text/plain": [
       "<Figure size 648x360 with 1 Axes>"
      ]
     },
     "metadata": {},
     "output_type": "display_data"
    }
   ],
   "source": [
    "# calculate the mesh grid for contour plot\n",
    "u1=np.linspace(5,20,100)\n",
    "u2=np.linspace(5,20,100)\n",
    "print(u1.shape)\n",
    "print(u2.shape)\n",
    "u1, u2 = np.meshgrid(u1, u2)\n",
    "\n",
    "X3=np.ones((*u1.shape,1))\n",
    "print(X3.shape)\n",
    "\n",
    "X3=Poly_Features(X3,u1[...,np.newaxis],u2[...,np.newaxis],degree,-1)\n",
    "\n",
    "Z=np.dot(X3,Thopt)\n",
    "\n",
    "# X3=Poly_Features(X3,u1,u2,degree,-1)\n",
    "print(X3.shape)\n",
    "print(Thopt.shape)\n",
    "Z=np.dot(X3,Thopt)\n",
    "\n",
    "\n",
    "\n",
    "\n",
    "# plot descision boundries\n",
    "plt.figure(\"Admission decision boundries\",figsize=(9,5))\n",
    "fail=plt.scatter(x_1_train[y_train==0], x_2_train[y_train==0],  color='red',label='fail')\n",
    "success=plt.scatter(x_1_train[y_train==1], x_2_train[y_train==1],  color='green',marker='+',s=80,label='success')\n",
    "plt.xlabel('Exam 1 score')\n",
    "plt.ylabel('Exam 2 score')\n",
    "plt.title('Adimitted/Not admitted Students')\n",
    "ctr = plt.contour(u1, u2, Z,0,colors=\"blue\")\n",
    "extra = Rectangle((0, 0), 3, 4, fc=\"w\", fill=False, edgecolor=\"b\", linewidth=1)\n",
    "plt.legend([extra,fail,success], (\"decision boundries\",\"fail\",\"success\"),loc='best')"
   ]
  },
  {
   "cell_type": "markdown",
   "metadata": {},
   "source": [
    "**Question 9: **\n",
    "- Load test data from \"exams_test_data.txt\" file in \"students_results_test\" variable and check its size. (use [loadtxt](https://docs.scipy.org/doc/numpy-1.13.0/reference/generated/numpy.loadtxt.html) function from numpy library).\n",
    "- Calculate the test accuracy (number of good prediction/number of all student) on the test data and compare it with the train accuracy. Interpret the difference."
   ]
  },
  {
   "cell_type": "code",
   "execution_count": null,
   "metadata": {},
   "outputs": [],
   "source": [
    "# Type your code here\n",
    "students_results_test = np.loadtxt('exams_test_data.txt',delimiter='\\t')  # ** your code here** \n",
    "\n",
    "# Type your code here\n",
    "m_test =   students_results_test.shape[0]                         # number of student in test data\n",
    "x_1_test =  students_results_test[:,0,np.newaxis]      # we add np.newaxis in the indexing to obtain an array \n",
    "x_2_test =   students_results_test[:,1,np.newaxis]     # with shape (m,1) instead of (m,)\n",
    "y_test =  students_results_test[:,2,np.newaxis]        # we add np.newaxis in the indexing to obtain an array with shape (100,1) instead of (100,)\n",
    "\n",
    "# add polynomial features to the array data X_test\n",
    "# Type your code here\n",
    "X_test=np.ones((m_test,1))   # initialize X array\n",
    "X_test = Poly_Features(X_test,x_1_train,x_2_train,degree,1) \n",
    "\n",
    "# calculate prediction and accuracy on test data\n",
    "# Type your code here\n",
    "y_test_pred = \n",
    "test_accuracy =  \n",
    "\n",
    "y_test_pred = predict(X_test,Thopt)\n",
    "y_goodtest =  y_test_pred >=0.5\n",
    "print(y_test_pred.shape)\n",
    "print(y_goodtest.shape)\n",
    "count=0\n",
    "for i in range (1,y_test_pred.shape[0]):\n",
    "    if y_test_pred[i]> 0.5: \n",
    "        y_goodtest[i]=1\n",
    "        count+=1\n",
    "   # else: \n",
    "     #   y_good[i]= 0\n",
    "print(y_test_pred)\n",
    "print(\"y_good\",y_goodtest)\n",
    "print(\"count\",count)\n",
    "good_pre = np.count_nonzero(y_goodtest)\n",
    "print(\"good_pre-->\",y_goodtest)\n",
    "test_accuracy = y_goodtest / X_test.shape[0] \n",
    "print(\"The accuracy on the test data is:\", test_accuracy,\"%\")"
   ]
  },
  {
   "cell_type": "markdown",
   "metadata": {},
   "source": [
    "Let's visualize the decision boundaries on the train and test data"
   ]
  },
  {
   "cell_type": "code",
   "execution_count": null,
   "metadata": {},
   "outputs": [],
   "source": [
    "# plot descision boundries and test data\n",
    "plt.figure(\"decision boundries and test data\",figsize=(9,5))\n",
    "fail=plt.scatter(x_1_test[y_test==0], x_2_test[y_test==0],  color='red')\n",
    "success=plt.scatter(x_1_test[y_test==1], x_2_test[y_test==1],  color='green',marker='+',s=80)\n",
    "fail_train=plt.scatter(x_1_train[y_train==0], x_2_train[y_train==0],  color='gray')\n",
    "success_train=plt.scatter(x_1_train[y_train==1], x_2_train[y_train==1],  color='gray',marker='+',s=80)\n",
    "plt.xlabel('Exam 1 score')\n",
    "plt.ylabel('Exam 2 score')\n",
    "plt.title('Adimitted/Not admitted Students')\n",
    "ctr = plt.contour(u1, u2, Z,0,colors=\"blue\")\n",
    "plt.legend([extra,fail,success,fail_train,success_train], (\"decision boundries\",\"test data (fail)\",\"test data (success)\",\"train data (fail)\",\"train data (success)\"),loc='best')"
   ]
  },
  {
   "cell_type": "markdown",
   "metadata": {},
   "source": [
    "### Part 2: Underfitting and Overfitting\n",
    "\n",
    "In this part we will study the effect of the number of features and the model complexity on the training phase and we will illustrate the underfitting and overfitting phenomena. We will use randomly generated data for a regression problem and we will try to use several models with different number of features (different polynomial features degrees). Then, we will see how well the model fits the training and the test data."
   ]
  },
  {
   "cell_type": "markdown",
   "metadata": {},
   "source": [
    "**Question 1: **\n",
    "- Split the data (\"x\" and \"y\" vector) to training and test data with size \"m_train\" and \"m_test\" respectively. The original data is sorted. Therefore, you should choose the training and the test sets randomly to ensure that the two sets cover the possible values space in a best manner.  \n",
    "**Hint:** You can use [random permutation](https://docs.scipy.org/doc/numpy/reference/generated/numpy.random.permutation.html) function to generate a random permutation of \"m\" indices for \"x\" and \"y\" vectors. Then, you can select the first \"m_train\" indices to index train data from \"x\" and \"y\". You can use the rest of indices to index the test data."
   ]
  },
  {
   "cell_type": "code",
   "execution_count": null,
   "metadata": {},
   "outputs": [],
   "source": [
    "# generate random data\n",
    "np.random.seed(0)\n",
    "m = 15\n",
    "x = np.linspace(0,10,m) + np.random.randn(m)/5\n",
    "y = np.sin(x)+x/6 + np.random.randn(m)/10\n",
    "\n",
    "# calculate the size of training and test sets\n",
    "train_ratio = 0.75\n",
    "m_train = int(round(train_ratio*m)) \n",
    "m_test = m-m_train\n",
    "print(\"the size of training set is:\",m_train,\"\\nthe size of test set is:\",m_test)\n",
    "\n",
    "# split the data to training and test sets\n",
    "np.random.seed(9599)\n",
    "# Type your code here\n",
    "rand_perm = \n",
    "X_train=\n",
    "y_train=\n",
    "X_test=\n",
    "y_test="
   ]
  },
  {
   "cell_type": "markdown",
   "metadata": {},
   "source": [
    "Let's visualize training and test set"
   ]
  },
  {
   "cell_type": "code",
   "execution_count": null,
   "metadata": {},
   "outputs": [],
   "source": [
    "# visualize training and test set\n",
    "plt.figure(\"training and test set\")\n",
    "plt.scatter(X_train, y_train, label='training data')\n",
    "plt.scatter(X_test, y_test, label='test data')\n",
    "plt.legend(loc=\"lower right\")"
   ]
  },
  {
   "cell_type": "markdown",
   "metadata": {},
   "source": [
    "**Question 2: **\n",
    "- Use [PolynomialFeatures](http://scikit-learn.org/stable/modules/generated/sklearn.preprocessing.PolynomialFeatures.html) class and [PolynomialFeatures.fit_transform](http://scikit-learn.org/stable/modules/generated/sklearn.preprocessing.PolynomialFeatures.html#sklearn.preprocessing.PolynomialFeatures.fit_transform) functions from numpy library to generate polynomial features of degree \"i\". This will generate automatically the features instead of adding them by hand as in the previous example with the implemented function \"Poly_Features\"."
   ]
  },
  {
   "cell_type": "code",
   "execution_count": null,
   "metadata": {},
   "outputs": [],
   "source": [
    "# train several polynomial models\n",
    "regr = LinearRegression()\n",
    "deg=[1,3,6,9,11]\n",
    "Poly_predict=np.zeros((len(deg),200))\n",
    "for i in range(len(deg)):\n",
    "    # Type your code here\n",
    "    poly = \n",
    "    new_X =  \n",
    "    regr.fit(new_X, y_train[:,np.newaxis])\n",
    "    u = np.linspace(0,11.5,200)   # \n",
    "    new_U = poly.fit_transform(u[:,np.newaxis])\n",
    "    Poly_predict[i,:]=regr.predict(new_U).transpose()"
   ]
  },
  {
   "cell_type": "markdown",
   "metadata": {},
   "source": [
    "Let's visualize different polynomial models"
   ]
  },
  {
   "cell_type": "code",
   "execution_count": null,
   "metadata": {},
   "outputs": [],
   "source": [
    "# visualize different polynomial models\n",
    "plt.figure(\"different polynomial models\",figsize=(9,5))\n",
    "plt.plot(X_train, y_train, 'o', label='training data', markersize=10)\n",
    "plt.plot(X_test, y_test, 'o', label='test data', markersize=10)\n",
    "for i,degree in enumerate(deg):\n",
    "    plt.plot(u, Poly_predict[i], alpha=0.8, lw=2, label='degree={}'.format(degree))\n",
    "plt.ylim(-1.5,4)\n",
    "plt.legend(loc=\"best\")"
   ]
  },
  {
   "cell_type": "markdown",
   "metadata": {},
   "source": [
    "### Model Selection\n",
    "In this part, we will train several polynomial models. Then, we will assess their performance on the training and the test sets. Hence, we will choose  the model with best performance in both training and test set. However, the calculated performance on test data won't be a good estimation of the performance of our model in general case. In fact, our model order (polynomial degree) is fitted to the test data. Thus, it tends to perform better on test data than on a new data. Therefore, we introduce the validation data used for tuning model meta-parameters (polynomial degree, classification threshold...). Then, we will use the test data to estimate the performance of our model in general case.  "
   ]
  },
  {
   "cell_type": "markdown",
   "metadata": {},
   "source": [
    "**Question 3: **\n",
    "- Split the original data (\"x\" and \"y\" vector) to training, validation and test data with size \"m_train\", \"m_val\" and \"m_test\" respectively.  \n",
    "**Hint:** You can use [random permutation](https://docs.scipy.org/doc/numpy/reference/generated/numpy.random.permutation.html) function to generate a random permutation of \"m\" indices for \"x\" and \"y\" vectors. Then, you can select the first \"m_train\" indices to index train data from \"x\" and \"y\". Then, you can act similarly for validation and test sets."
   ]
  },
  {
   "cell_type": "code",
   "execution_count": null,
   "metadata": {},
   "outputs": [],
   "source": [
    "# calculate the size of training, validation and test sets\n",
    "train_ratio = 0.6\n",
    "val_ratio = 0.2\n",
    "m_train = int(round(train_ratio*m)) \n",
    "m_val = int(round(val_ratio*m)) \n",
    "m_test = m-m_train-m_val\n",
    "print(\"the size of training set is:\",m_train,\"\\nthe size of validation set is:\",m_val,\"\\nthe size of test set is:\",m_test)"
   ]
  },
  {
   "cell_type": "code",
   "execution_count": null,
   "metadata": {},
   "outputs": [],
   "source": [
    "# split data to training, validation and test sets\n",
    "np.random.seed(5190969)\n",
    "# Type your code here\n",
    "rand_perm = \n",
    "X_train=\n",
    "y_train=\n",
    "X_val=\n",
    "y_val=\n",
    "X_test=\n",
    "y_test="
   ]
  },
  {
   "cell_type": "markdown",
   "metadata": {},
   "source": [
    "Let's visualize training, validation and test sets"
   ]
  },
  {
   "cell_type": "code",
   "execution_count": null,
   "metadata": {},
   "outputs": [],
   "source": [
    "# visualize training, validation and test sets\n",
    "plt.figure(\"training, validation and test sets\")\n",
    "plt.scatter(X_train, y_train, label='training data')\n",
    "plt.scatter(X_val, y_val, label='validation data')\n",
    "plt.scatter(X_test, y_test, label='test data')\n",
    "plt.legend(loc=\"lower right\")"
   ]
  },
  {
   "cell_type": "markdown",
   "metadata": {},
   "source": [
    "**Question 4: **\n",
    "- Calculate \"train_error\" and \"val_error\" mean squared error on training and validation set for each polynomial model with degree \"i\" (for loop counter).  \n",
    "**Hint:** You can use [mean_squared_error](http://scikit-learn.org/stable/modules/generated/sklearn.metrics.mean_squared_error.html) function from sklearn library to evaluate the mean squared error between original \"y\" and \"y_predicted\"."
   ]
  },
  {
   "cell_type": "code",
   "execution_count": null,
   "metadata": {},
   "outputs": [],
   "source": [
    "# train and assess several polynomial models\n",
    "train_error = np.zeros((deg[-1]+1,)) \n",
    "val_error = np.zeros((deg[-1]+1,))\n",
    "\n",
    "for i in range(deg[-1]+1):\n",
    "    poly = PolynomialFeatures(i)\n",
    "    new_X_train= poly.fit_transform(X_train[:,np.newaxis])\n",
    "    new_X_val = poly.fit_transform(X_val[:,np.newaxis])\n",
    "    regr.fit(new_X_train, y_train[:,np.newaxis])\n",
    "    # Type your code here\n",
    "    y_train_predicted = \n",
    "    y_val_predicted = \n",
    "    train_error[i] = \n",
    "    val_error[i] = \n",
    "    print(\"degree {} polynomial has a train error: {:.5f} and validation error: {:.4f}\".format(i,train_error[i],val_error[i]))"
   ]
  },
  {
   "cell_type": "markdown",
   "metadata": {},
   "source": [
    "Let's visualize error of each polynomial model"
   ]
  },
  {
   "cell_type": "code",
   "execution_count": null,
   "metadata": {},
   "outputs": [],
   "source": [
    "# visualize error of each polynomial model\n",
    "plt.figure(\"train and validation error of each polynomial model\")  \n",
    "plt.plot(range(deg[-1]+1),train_error[:deg[-1]+1],label=\"train error\")\n",
    "plt.plot(range(deg[-1]+1),val_error[:deg[-1]+1],label=\"validation error\")\n",
    "plt.ylim(0,1)\n",
    "plt.legend(loc=\"best\")"
   ]
  },
  {
   "cell_type": "markdown",
   "metadata": {},
   "source": [
    "**Question 5: **\n",
    "- From the train and validation error graph and values, select the polynomial degree \"best_poly_deg\" that fit the best our data. Then, compare the training, validation and test error of this polynomial model. What do you notice?"
   ]
  },
  {
   "cell_type": "code",
   "execution_count": null,
   "metadata": {},
   "outputs": [],
   "source": [
    "# Type your code here\n",
    "best_poly_deg = \n",
    "poly = PolynomialFeatures(best_poly_deg)\n",
    "new_X_train= \n",
    "new_X_test = \n",
    "regr.fit(new_X_train, y_train[:,np.newaxis])\n",
    "# Type your code here\n",
    "y_test_predicted = \n",
    "test_error = \n",
    "print(\"train error =\",train_error[best_poly_deg],\"\\nvalidation error =\",val_error[best_poly_deg],\"\\ntest error =\",test_error)"
   ]
  },
  {
   "cell_type": "markdown",
   "metadata": {},
   "source": [
    "### Part 3: Regularization\n",
    "\n",
    "In this section, we will split the \"Microchip\" dataset into training and test sets. We will train a polynomial logistic classifier with and without regularization. Then, we will compare train and test accuracy in the two cases.  \n",
    "\n",
    "The regularization helps to avoid the problem of overfitting by reducing or even making null $\\theta_j's$ of non significant features. The idea is to include the sum of $\\theta_j's$ in cost function in order to reduce them and remove useless features in our models.\n",
    "\n",
    "The regularized cost function is equal to: $$J_{Reg}(\\theta)= J(\\theta)+\\frac{\\lambda}{2m}\\times\\sum_{j=1}^{n-1} \\theta_j^2$$\n",
    "\n",
    "The gradient of regularized cost function is equal to: \n",
    "\n",
    "$$\\nabla J_{Reg}(\\theta) = \\begin{bmatrix}\\frac{\\partial J(\\theta)}{\\partial \\theta_0}\n",
    "\\\\ \\frac{\\partial J(\\theta)}{\\partial \\theta_1}\n",
    "\\\\ \\vdots\n",
    "\\\\ \\frac{\\partial J(\\theta)}{\\partial \\theta_{n-1}}\n",
    "\\end{bmatrix}+\\frac{\\lambda}{m} \\begin{bmatrix}0\n",
    "\\\\ \\theta_1\n",
    "\\\\ \\vdots\n",
    "\\\\ \\theta_{n-1}\n",
    "\\end{bmatrix}$$ \n",
    "where: $ \\left\\{\\begin{matrix}\n",
    "\\frac{\\partial J(\\theta)}{\\partial \\theta_j} = \\frac{1}{m} \\sum_{i=1}^{m}{(h_\\theta(x_i) - y)~x_j} ~~for~ j=0\\dots n-1 \n",
    "\\\\ h_\\theta(x_i)=sigmoid(\\theta^\\top x_i)=\\frac{1}{1+e^{-\\theta^\\top x_i}}\n",
    "\\end{matrix}\\right.$"
   ]
  },
  {
   "cell_type": "markdown",
   "metadata": {},
   "source": [
    "**Question 1: **\n",
    "- Load data from \"microchip.txt\" file (use [loadtxt](https://docs.scipy.org/doc/numpy-1.13.0/reference/generated/numpy.loadtxt.html) function from numpy library).\n",
    "- Split \"X\" and \"Y\" data into train, validation and test sets with a size of 60%, 20% and 20% respectively.  \n",
    "**Hint: ** You can use [train_test_split](http://scikit-learn.org/stable/modules/generated/sklearn.model_selection.train_test_split.html) function from sklearn library (use the parameter random_state=799) instead of generating random permutation by hand.\n",
    "- Extract the train features and use the implemented function \"Poly_Features\" to generate the array of train features X.\n",
    "- Determine the number of features n."
   ]
  },
  {
   "cell_type": "code",
   "execution_count": null,
   "metadata": {},
   "outputs": [],
   "source": [
    "# load and extract data\n",
    "# Type your code here\n",
    "microchip_data =                    \n",
    "m =                                # number of mocrochips\n",
    "x_1 =                               # we add np.newaxis in the indexing to obtain an array \n",
    "x_2 =                                # with shape (m,1) instead of (m,)\n",
    "Y =                                   # we add np.newaxis in the indexing to obtain an array with shape (m,1) instead of (m,)\n",
    "\n",
    "# split data to train, validation and test sets use the parameter random_state=799\n",
    "# Type your code here\n",
    "X_train, X_val, y_train, y_val = \n",
    "X_train, X_test, y_train, y_test = "
   ]
  },
  {
   "cell_type": "code",
   "execution_count": null,
   "metadata": {},
   "outputs": [],
   "source": [
    "# add polynomial features to the train data\n",
    "degree=6    # degree of polynomial features\n",
    "# Type your code here\n",
    "x_1_train = \n",
    "x_2_train = \n",
    "Y=\n",
    "\n",
    "# Type your code here\n",
    "X =    # initialize X array\n",
    "X = \n",
    "n = "
   ]
  },
  {
   "cell_type": "markdown",
   "metadata": {},
   "source": [
    "**Question 2: **  \n",
    "- Create a sigmoid function that returns $sigmoid(z)=\\frac{1}{1+e^{-z}}$  \n",
    "**Hint:** For a vectorized implementation:\n",
    "- Use [<code>numpy.ones</code>](https://docs.scipy.org/doc/numpy-1.14.0/reference/generated/numpy.ones.html) to have a numerator with the same shape of z\n",
    "- Use [<code>numpy.exp</code>](https://docs.scipy.org/doc/numpy/reference/generated/numpy.exp.html)"
   ]
  },
  {
   "cell_type": "code",
   "execution_count": null,
   "metadata": {},
   "outputs": [],
   "source": [
    "def sigmoid(z):\n",
    "    # Type your code here\n",
    "    return "
   ]
  },
  {
   "cell_type": "markdown",
   "metadata": {},
   "source": [
    "**Question 3: **\n",
    "- Create your logistic regression predict function\n",
    "$$yhat=sigmoid(\\theta^\\top x)=\\frac{1}{1+e^{-\\theta^\\top x}}$$\n",
    "**Hint:** Use the sigmoid function  \n",
    "This new hypothesis formulas will ensure: $0\\leq yhat_i\\leq 1$  "
   ]
  },
  {
   "cell_type": "code",
   "execution_count": null,
   "metadata": {},
   "outputs": [],
   "source": [
    "# Create predict function\n",
    "def predict(x,theta):\n",
    "    # Type your code here\n",
    "    yhat = \n",
    "    return yhat"
   ]
  },
  {
   "cell_type": "markdown",
   "metadata": {},
   "source": [
    "**Question 4:** \n",
    "- Store in the variable m the number of samples.\n",
    "- Define the **regulized** cost function that returns the NLL (Negative Log Likelihood Error)."
   ]
  },
  {
   "cell_type": "code",
   "execution_count": null,
   "metadata": {},
   "outputs": [],
   "source": [
    "def Reg_NLL_cost(theta, x, y ,lambda_):\n",
    "    # ** Type your code here** \n",
    "    \n",
    "    return "
   ]
  },
  {
   "cell_type": "markdown",
   "metadata": {},
   "source": [
    "**Question 5:** \n",
    "- Implement the \"Reg_NLL_cost\" function that evaluates the gradient of the **regulized** logistic cost function."
   ]
  },
  {
   "cell_type": "code",
   "execution_count": null,
   "metadata": {},
   "outputs": [],
   "source": [
    "def Reg_grad_cost(theta, x, y ,lambda_):\n",
    "    # ** Type your code here** \n",
    "    \n",
    "    return  "
   ]
  },
  {
   "cell_type": "markdown",
   "metadata": {},
   "source": [
    "**Question 6: **\n",
    "- Extract the validation features and use the implemented function \"Poly_Features\" to generate the array of validation features X_val_poly."
   ]
  },
  {
   "cell_type": "code",
   "execution_count": null,
   "metadata": {},
   "outputs": [],
   "source": [
    "# add polynomial features to the test data  \n",
    "# ** Type your code here**\n",
    "x_1_val =  \n",
    "x_2_val = \n",
    "X_val_poly=np.ones((X_val.shape[0],1))   # initialize X_test_poly array\n",
    "X_val_poly = "
   ]
  },
  {
   "cell_type": "markdown",
   "metadata": {},
   "source": [
    "**Question 7: **\n",
    "- Calculate the values of train and validation accuracies in the case with the different values values of lambda.  \n",
    "**Hint:** You can use the function [<code>accuracy_score</code>](https://scikit-learn.org/stable/modules/generated/sklearn.metrics.accuracy_score.html#sklearn.metrics.accuracy_score)"
   ]
  },
  {
   "cell_type": "code",
   "execution_count": null,
   "metadata": {},
   "outputs": [],
   "source": [
    "def Reg_NLL_cost_fn(theta):\n",
    "    J=Reg_NLL_cost(theta[:,np.newaxis],X, Y, lambda_)\n",
    "    return J"
   ]
  },
  {
   "cell_type": "code",
   "execution_count": null,
   "metadata": {},
   "outputs": [],
   "source": [
    "def Reg_grad_cost_fn(theta):\n",
    "    g=Reg_grad_cost(theta[:,np.newaxis], X, Y, lambda_)\n",
    "    g.shape=(g.shape[0],)\n",
    "    return g  "
   ]
  },
  {
   "cell_type": "code",
   "execution_count": null,
   "metadata": {},
   "outputs": [],
   "source": [
    "l2 = np.arange(0.0,5.0,0.01)\n",
    "train_Acc = []\n",
    "val_Acc = []\n",
    "theta0=np.zeros((n,))\n",
    "for reg in l2:\n",
    "    lambda_=reg\n",
    "    theta_opt = fmin_bfgs(Reg_NLL_cost_fn,theta0,fprime=Reg_grad_cost_fn,disp=0) \n",
    "    # ** your code here**\n",
    "    y_train_pred =  \n",
    "    train_accuracy=\n",
    "    train_Acc.append(train_accuracy)\n",
    "    # ** your code here**\n",
    "    y_val_pred = \n",
    "    val_accuracy=\n",
    "    val_Acc.append(val_accuracy)\n",
    "max_idx = np.argmax(val_Acc)\n",
    "max_l2 = l2[max_idx]\n",
    "# ** your code here**\n",
    "max_Acc = val_Acc[max_idx]"
   ]
  },
  {
   "cell_type": "markdown",
   "metadata": {},
   "source": [
    "Let's visualize train and validation accuracy variations based on the regularization parameter"
   ]
  },
  {
   "cell_type": "code",
   "execution_count": null,
   "metadata": {},
   "outputs": [],
   "source": [
    "plt.figure(\"Train and validation accuracy \\n vs. regularization parameter\")\n",
    "plt.plot(l2, val_Acc, color = 'red', label = 'Val Acc')\n",
    "plt.plot(l2, train_Acc, label = 'Train Acc')\n",
    "plt.axvline(max_l2, color = 'black', linestyle = '--')\n",
    "plt.legend()\n",
    "plt.xlabel('Regularization parameter')\n",
    "plt.ylabel('Accuracy')"
   ]
  },
  {
   "cell_type": "markdown",
   "metadata": {},
   "source": [
    "**Question 8: **\n",
    "- Extract the test features and use the implemented function \"Poly_Features\" to generate the array of test features X_test_poly.\n",
    "- Calculate the test accuracy with the value of lambda that maximizes the validation accuracy. "
   ]
  },
  {
   "cell_type": "code",
   "execution_count": null,
   "metadata": {},
   "outputs": [],
   "source": [
    "# ** your code here**\n",
    "x_1_test =  \n",
    "x_2_test = \n",
    "X_test_poly=np.ones((X_test.shape[0],1))   # initialize X_test_poly array\n",
    "X_test_poly = \n",
    "\n",
    "lambda_=\n",
    "theta_opt = \n",
    "\n",
    "y_test_pred = \n",
    "test_accuracy=\n",
    "print ('The test accuracy is ', test_accuracy*100,'%')"
   ]
  },
  {
   "cell_type": "markdown",
   "metadata": {},
   "source": [
    "Let's visualize the decision boundaries"
   ]
  },
  {
   "cell_type": "code",
   "execution_count": null,
   "metadata": {},
   "outputs": [],
   "source": [
    "# calculate the mesh grid for contour plot\n",
    "u1=np.linspace(-1,1.5,50)\n",
    "u2=np.linspace(-1,1.5,50)\n",
    "u1, u2 = np.meshgrid(u1, u2)\n",
    "X3=np.ones((*u1.shape,1))\n",
    "\n",
    "X3=Poly_Features(X3,u1[...,np.newaxis],u2[...,np.newaxis],degree,-1)\n",
    "\n",
    "Z=np.dot(X3,theta_opt)\n",
    "\n",
    "# plot descision boundries\n",
    "plt.figure(\"Microchip decision boundries\",figsize=(9,7))\n",
    "fail=plt.scatter(x_1_test[y_test==0], x_2_test[y_test==0],  color='red',label='fail')\n",
    "success=plt.scatter(x_1_test[y_test==1], x_2_test[y_test==1],  color='green',marker='+',s=80,label='success')\n",
    "\n",
    "fail_train=plt.scatter(x_1_train[y_train==0], x_2_train[y_train==0],  color='gray',label='fail')\n",
    "success_train=plt.scatter(x_1_train[y_train==1], x_2_train[y_train==1],  color='gray',marker='+',s=80,label='success')\n",
    "\n",
    "fail_val=plt.scatter(x_1_val[y_val==0], x_2_val[y_val==0],  color='orange',label='fail')\n",
    "success_val=plt.scatter(x_1_val[y_val==1], x_2_val[y_val==1],  color='blue',marker='+',s=80,label='success')\n",
    "\n",
    "plt.xlabel('Test 1 score')\n",
    "plt.ylabel('Test 2 score')\n",
    "plt.title('Accepted/Rejected Microchip')\n",
    "ctr = plt.contour(u1, u2, Z,0,colors=\"blue\")\n",
    "plt.legend([extra,fail,success,fail_train,success_train,fail_val,success_val], (\"decision boundries\",\"test data (fail)\",\"test data (success)\",\"train data (fail)\",\"train data (success)\",\"validation data (fail)\",\"validation data (success)\"),loc='best')\n"
   ]
  },
  {
   "cell_type": "code",
   "execution_count": null,
   "metadata": {},
   "outputs": [],
   "source": []
  }
 ],
 "metadata": {
  "kernelspec": {
   "display_name": "Python 3",
   "language": "python",
   "name": "python3"
  },
  "language_info": {
   "codemirror_mode": {
    "name": "ipython",
    "version": 3
   },
   "file_extension": ".py",
   "mimetype": "text/x-python",
   "name": "python",
   "nbconvert_exporter": "python",
   "pygments_lexer": "ipython3",
   "version": "3.6.5"
  }
 },
 "nbformat": 4,
 "nbformat_minor": 2
}
